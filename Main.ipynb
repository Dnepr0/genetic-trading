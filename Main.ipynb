{
 "cells": [
  {
   "cell_type": "code",
   "execution_count": 2,
   "metadata": {
    "scrolled": true
   },
   "outputs": [],
   "source": [
    "%load_ext autoreload\n",
    "%autoreload 2"
   ]
  },
  {
   "cell_type": "code",
   "execution_count": 3,
   "metadata": {},
   "outputs": [],
   "source": [
    "import sys\n",
    "import numpy as np\n",
    "import pickle\n",
    "import datetime\n",
    "from IPython.display import HTML, display\n",
    "import tabulate\n",
    "from copy import deepcopy\n",
    "from gene import Gene, GeneChain\n",
    "from evolution import Evolution\n",
    "from loader import load_results, load_trading_params, load_nontrading_params, load_indivs\n",
    "from crosser import Cross10to100, RandomGeneCrosser\n",
    "from mutator import GausianMutator, MutRandomIndivs, RandomGeneChainMutator\n",
    "from selector import TopNSelector\n",
    "from util import plot\n",
    "from fitness import Fitness\n",
    "from fitness_test import FitnessTest\n",
    "from analizer import compare_trading_reports"
   ]
  },
  {
   "cell_type": "markdown",
   "metadata": {},
   "source": [
    "## Load data"
   ]
  },
  {
   "cell_type": "code",
   "execution_count": 6,
   "metadata": {
    "scrolled": true
   },
   "outputs": [],
   "source": [
    "db_indivs = load_indivs()   # pandas object, for fitness function; db individuals have only non-trading parameters\n",
    "trading_params = load_trading_params()  # pandas object, for precomputation\n",
    "nontrading_params = load_nontrading_params()    # pandas object, for precomputation"
   ]
  },
  {
   "cell_type": "markdown",
   "metadata": {},
   "source": [
    "## Init base gene chain"
   ]
  },
  {
   "cell_type": "code",
   "execution_count": 7,
   "metadata": {
    "scrolled": true
   },
   "outputs": [],
   "source": [
    "base_gene_chain = GeneChain()\n",
    "gene_descriptors = []\n",
    "for index, row in nontrading_params.iterrows():\n",
    "    dtype = np.dtype(row[\"TYPE\"]).type\n",
    "    is_interval = True if dtype != bool else False\n",
    "    min_range = dtype(row[\"MIN_RANGE\"])\n",
    "    max_value = dtype(max(db_indivs[index]))\n",
    "    min_value = dtype(min(db_indivs[index]))        \n",
    "    gene_descriptors.append(str(row[\"DESCRIPTION\"]))\n",
    "    base_gene_chain.add(Gene(dtype=dtype, is_interval=is_interval, min_radius=min_range/2,\n",
    "                             min_value=min_value, max_value=max_value, ordering=-1))    \n",
    "\n",
    "for index, row in trading_params.iterrows():\n",
    "    is_interval = False\n",
    "    dtype = np.dtype(row[\"TYPE\"]).type\n",
    "    min_value = dtype(row[\"MIN\"])\n",
    "    max_value = dtype(row[\"MAX\"])\n",
    "    gene_descriptors.append(str(row[\"DESCRIPTION\"]))\n",
    "    base_gene_chain.add(Gene(dtype=dtype, is_interval=is_interval, tags=[\"trading\"],\n",
    "                             min_value=min_value, max_value=max_value, ordering=-1))    "
   ]
  },
  {
   "cell_type": "markdown",
   "metadata": {},
   "source": [
    "## Init genetic algorithm"
   ]
  },
  {
   "cell_type": "code",
   "execution_count": 8,
   "metadata": {},
   "outputs": [],
   "source": [
    "ev = Evolution(\n",
    "    MAX_GENS=30,\n",
    "    fitness=Fitness(),\n",
    "    base_indiv=base_gene_chain,\n",
    "    crosser=RandomGeneCrosser(),\n",
    "    selector=TopNSelector(),    \n",
    "    multithreaded=True,\n",
    "    verbose=True)"
   ]
  },
  {
   "cell_type": "markdown",
   "metadata": {},
   "source": [
    "## Create start population"
   ]
  },
  {
   "cell_type": "code",
   "execution_count": 9,
   "metadata": {
    "scrolled": true
   },
   "outputs": [
    {
     "name": "stdout",
     "output_type": "stream",
     "text": [
      "Found 10 indivs with 50 tries (42s.)                                                                                                    "
     ]
    }
   ],
   "source": [
    "ev.init_random_indivs(size=10, min_models=5)\n",
    "ev.dump(\"population.pkl\")\n",
    "#ev.load_indivs(\"population.pkl\")"
   ]
  },
  {
   "cell_type": "markdown",
   "metadata": {},
   "source": [
    "## Run "
   ]
  },
  {
   "cell_type": "code",
   "execution_count": 10,
   "metadata": {
    "scrolled": false
   },
   "outputs": [
    {
     "name": "stdout",
     "output_type": "stream",
     "text": [
      "Generation: 9 | Best fitness: 15.0 | Best ratio: 5.0 | Models: 14 | Time: avg per gen = 28s. total = 258s.                                                                                                    "
     ]
    },
    {
     "ename": "KeyboardInterrupt",
     "evalue": "",
     "output_type": "error",
     "traceback": [
      "\u001b[1;31m---------------------------------------------------------------------------\u001b[0m",
      "\u001b[1;31mKeyboardInterrupt\u001b[0m                         Traceback (most recent call last)",
      "\u001b[1;32m<ipython-input-10-227639003e5e>\u001b[0m in \u001b[0;36m<module>\u001b[1;34m\u001b[0m\n\u001b[1;32m----> 1\u001b[1;33m \u001b[0mev\u001b[0m\u001b[1;33m.\u001b[0m\u001b[0mrun\u001b[0m\u001b[1;33m(\u001b[0m\u001b[0mdump\u001b[0m\u001b[1;33m=\u001b[0m\u001b[1;34m\"best.pkl\"\u001b[0m\u001b[1;33m)\u001b[0m\u001b[1;33m\u001b[0m\u001b[1;33m\u001b[0m\u001b[0m\n\u001b[0m",
      "\u001b[1;32mC:\\git\\genetic-trading\\evolution.py\u001b[0m in \u001b[0;36mrun\u001b[1;34m(self, dump, gpu, multithreaded)\u001b[0m\n\u001b[0;32m     73\u001b[0m         \u001b[1;32mfor\u001b[0m \u001b[0mi\u001b[0m \u001b[1;32min\u001b[0m \u001b[0mrange\u001b[0m\u001b[1;33m(\u001b[0m\u001b[0mself\u001b[0m\u001b[1;33m.\u001b[0m\u001b[0m_max_gens\u001b[0m\u001b[1;33m)\u001b[0m\u001b[1;33m:\u001b[0m\u001b[1;33m\u001b[0m\u001b[1;33m\u001b[0m\u001b[0m\n\u001b[0;32m     74\u001b[0m             \u001b[0mgen_time\u001b[0m \u001b[1;33m=\u001b[0m \u001b[0mtime\u001b[0m\u001b[1;33m(\u001b[0m\u001b[1;33m)\u001b[0m\u001b[1;33m\u001b[0m\u001b[1;33m\u001b[0m\u001b[0m\n\u001b[1;32m---> 75\u001b[1;33m             \u001b[0mself\u001b[0m\u001b[1;33m.\u001b[0m\u001b[0m_next_generation\u001b[0m\u001b[1;33m(\u001b[0m\u001b[1;33m)\u001b[0m\u001b[1;33m\u001b[0m\u001b[1;33m\u001b[0m\u001b[0m\n\u001b[0m\u001b[0;32m     76\u001b[0m             \u001b[0mself\u001b[0m\u001b[1;33m.\u001b[0m\u001b[0m_run_results\u001b[0m\u001b[1;33m.\u001b[0m\u001b[0mappend\u001b[0m\u001b[1;33m(\u001b[0m\u001b[1;33m{\u001b[0m\u001b[1;34m\"fitness\"\u001b[0m\u001b[1;33m:\u001b[0m \u001b[0mself\u001b[0m\u001b[1;33m.\u001b[0m\u001b[0m_individuals\u001b[0m\u001b[1;33m[\u001b[0m\u001b[1;36m0\u001b[0m\u001b[1;33m]\u001b[0m\u001b[1;33m.\u001b[0m\u001b[0mfitness\u001b[0m\u001b[1;33m,\u001b[0m \u001b[1;34m\"time\"\u001b[0m\u001b[1;33m:\u001b[0m \u001b[0mround\u001b[0m\u001b[1;33m(\u001b[0m\u001b[0mtime\u001b[0m\u001b[1;33m(\u001b[0m\u001b[1;33m)\u001b[0m \u001b[1;33m-\u001b[0m \u001b[0mgen_time\u001b[0m\u001b[1;33m)\u001b[0m\u001b[1;33m}\u001b[0m\u001b[1;33m)\u001b[0m\u001b[1;33m\u001b[0m\u001b[1;33m\u001b[0m\u001b[0m\n\u001b[0;32m     77\u001b[0m             \u001b[0mself\u001b[0m\u001b[1;33m.\u001b[0m\u001b[0m_run_verbose\u001b[0m\u001b[1;33m(\u001b[0m\u001b[1;33m)\u001b[0m\u001b[1;33m\u001b[0m\u001b[1;33m\u001b[0m\u001b[0m\n",
      "\u001b[1;32mC:\\git\\genetic-trading\\evolution.py\u001b[0m in \u001b[0;36m_next_generation\u001b[1;34m(self)\u001b[0m\n\u001b[0;32m    108\u001b[0m \u001b[1;33m\u001b[0m\u001b[0m\n\u001b[0;32m    109\u001b[0m         \u001b[1;31m# select best individuals\u001b[0m\u001b[1;33m\u001b[0m\u001b[1;33m\u001b[0m\u001b[1;33m\u001b[0m\u001b[0m\n\u001b[1;32m--> 110\u001b[1;33m         \u001b[0mself\u001b[0m\u001b[1;33m.\u001b[0m\u001b[0m_compute_fitness\u001b[0m\u001b[1;33m(\u001b[0m\u001b[1;33m)\u001b[0m\u001b[1;33m\u001b[0m\u001b[1;33m\u001b[0m\u001b[0m\n\u001b[0m\u001b[0;32m    111\u001b[0m         \u001b[1;32mif\u001b[0m \u001b[0mself\u001b[0m\u001b[1;33m.\u001b[0m\u001b[0m_selector\u001b[0m \u001b[1;32mis\u001b[0m \u001b[1;32mnot\u001b[0m \u001b[1;32mNone\u001b[0m\u001b[1;33m:\u001b[0m\u001b[1;33m\u001b[0m\u001b[1;33m\u001b[0m\u001b[0m\n\u001b[0;32m    112\u001b[0m             \u001b[0mself\u001b[0m\u001b[1;33m.\u001b[0m\u001b[0m_individuals\u001b[0m \u001b[1;33m=\u001b[0m \u001b[0mself\u001b[0m\u001b[1;33m.\u001b[0m\u001b[0m_selector\u001b[0m\u001b[1;33m.\u001b[0m\u001b[0mselect\u001b[0m\u001b[1;33m(\u001b[0m\u001b[0mself\u001b[0m\u001b[1;33m.\u001b[0m\u001b[0m_individuals\u001b[0m\u001b[1;33m,\u001b[0m \u001b[0msize\u001b[0m\u001b[1;33m)\u001b[0m\u001b[1;33m\u001b[0m\u001b[1;33m\u001b[0m\u001b[0m\n",
      "\u001b[1;32mC:\\git\\genetic-trading\\evolution.py\u001b[0m in \u001b[0;36m_compute_fitness\u001b[1;34m(self, sort)\u001b[0m\n\u001b[0;32m    120\u001b[0m     \u001b[1;32mdef\u001b[0m \u001b[0m_compute_fitness\u001b[0m\u001b[1;33m(\u001b[0m\u001b[0mself\u001b[0m\u001b[1;33m,\u001b[0m \u001b[0msort\u001b[0m\u001b[1;33m=\u001b[0m\u001b[1;32mTrue\u001b[0m\u001b[1;33m)\u001b[0m\u001b[1;33m:\u001b[0m\u001b[1;33m\u001b[0m\u001b[1;33m\u001b[0m\u001b[0m\n\u001b[0;32m    121\u001b[0m         \u001b[1;32mif\u001b[0m \u001b[0mself\u001b[0m\u001b[1;33m.\u001b[0m\u001b[0m_individuals\u001b[0m\u001b[1;33m:\u001b[0m\u001b[1;33m\u001b[0m\u001b[1;33m\u001b[0m\u001b[0m\n\u001b[1;32m--> 122\u001b[1;33m             \u001b[0mself\u001b[0m\u001b[1;33m.\u001b[0m\u001b[0m_fitness\u001b[0m\u001b[1;33m.\u001b[0m\u001b[0mcalc\u001b[0m\u001b[1;33m(\u001b[0m\u001b[1;33m[\u001b[0m \u001b[0mindiv\u001b[0m \u001b[1;32mfor\u001b[0m \u001b[0mindiv\u001b[0m \u001b[1;32min\u001b[0m \u001b[0mself\u001b[0m\u001b[1;33m.\u001b[0m\u001b[0m_individuals\u001b[0m \u001b[1;32mif\u001b[0m \u001b[0mindiv\u001b[0m\u001b[1;33m.\u001b[0m\u001b[0mfitness\u001b[0m \u001b[1;32mis\u001b[0m \u001b[1;32mNone\u001b[0m \u001b[1;33m]\u001b[0m\u001b[1;33m,\u001b[0m \u001b[0mgpu\u001b[0m\u001b[1;33m=\u001b[0m\u001b[0mself\u001b[0m\u001b[1;33m.\u001b[0m\u001b[0m_gpu\u001b[0m\u001b[1;33m,\u001b[0m \u001b[0mmultithreaded\u001b[0m\u001b[1;33m=\u001b[0m\u001b[0mself\u001b[0m\u001b[1;33m.\u001b[0m\u001b[0m_multithread\u001b[0m\u001b[1;33m)\u001b[0m\u001b[1;33m\u001b[0m\u001b[1;33m\u001b[0m\u001b[0m\n\u001b[0m\u001b[0;32m    123\u001b[0m             \u001b[1;32mif\u001b[0m \u001b[0msort\u001b[0m\u001b[1;33m:\u001b[0m\u001b[1;33m\u001b[0m\u001b[1;33m\u001b[0m\u001b[0m\n\u001b[0;32m    124\u001b[0m                 \u001b[0mself\u001b[0m\u001b[1;33m.\u001b[0m\u001b[0m_sort_indivs\u001b[0m\u001b[1;33m(\u001b[0m\u001b[1;33m)\u001b[0m\u001b[1;33m\u001b[0m\u001b[1;33m\u001b[0m\u001b[0m\n",
      "\u001b[1;32mC:\\git\\genetic-trading\\fitness.py\u001b[0m in \u001b[0;36mcalc\u001b[1;34m(self, indivs, gpu, multithreaded)\u001b[0m\n\u001b[0;32m     70\u001b[0m         \u001b[1;32melif\u001b[0m \u001b[0mmultithreaded\u001b[0m\u001b[1;33m:\u001b[0m\u001b[1;33m\u001b[0m\u001b[1;33m\u001b[0m\u001b[0m\n\u001b[0;32m     71\u001b[0m             \u001b[0mpool\u001b[0m \u001b[1;33m=\u001b[0m \u001b[0mPool\u001b[0m\u001b[1;33m(\u001b[0m\u001b[1;33m)\u001b[0m\u001b[1;33m\u001b[0m\u001b[1;33m\u001b[0m\u001b[0m\n\u001b[1;32m---> 72\u001b[1;33m             \u001b[0mresults\u001b[0m \u001b[1;33m=\u001b[0m \u001b[0mpool\u001b[0m\u001b[1;33m.\u001b[0m\u001b[0mmap\u001b[0m\u001b[1;33m(\u001b[0m\u001b[0mevaluate\u001b[0m\u001b[1;33m,\u001b[0m \u001b[0mparams\u001b[0m\u001b[1;33m)\u001b[0m\u001b[1;33m\u001b[0m\u001b[1;33m\u001b[0m\u001b[0m\n\u001b[0m\u001b[0;32m     73\u001b[0m             \u001b[0mpool\u001b[0m\u001b[1;33m.\u001b[0m\u001b[0mclose\u001b[0m\u001b[1;33m(\u001b[0m\u001b[1;33m)\u001b[0m\u001b[1;33m\u001b[0m\u001b[1;33m\u001b[0m\u001b[0m\n\u001b[0;32m     74\u001b[0m             \u001b[0mpool\u001b[0m\u001b[1;33m.\u001b[0m\u001b[0mjoin\u001b[0m\u001b[1;33m(\u001b[0m\u001b[1;33m)\u001b[0m\u001b[1;33m\u001b[0m\u001b[1;33m\u001b[0m\u001b[0m\n",
      "\u001b[1;32mc:\\users\\zadne\\appdata\\local\\programs\\python\\python38\\lib\\multiprocessing\\pool.py\u001b[0m in \u001b[0;36mmap\u001b[1;34m(self, func, iterable, chunksize)\u001b[0m\n\u001b[0;32m    362\u001b[0m         \u001b[1;32min\u001b[0m \u001b[0ma\u001b[0m \u001b[0mlist\u001b[0m \u001b[0mthat\u001b[0m \u001b[1;32mis\u001b[0m \u001b[0mreturned\u001b[0m\u001b[1;33m.\u001b[0m\u001b[1;33m\u001b[0m\u001b[1;33m\u001b[0m\u001b[0m\n\u001b[0;32m    363\u001b[0m         '''\n\u001b[1;32m--> 364\u001b[1;33m         \u001b[1;32mreturn\u001b[0m \u001b[0mself\u001b[0m\u001b[1;33m.\u001b[0m\u001b[0m_map_async\u001b[0m\u001b[1;33m(\u001b[0m\u001b[0mfunc\u001b[0m\u001b[1;33m,\u001b[0m \u001b[0miterable\u001b[0m\u001b[1;33m,\u001b[0m \u001b[0mmapstar\u001b[0m\u001b[1;33m,\u001b[0m \u001b[0mchunksize\u001b[0m\u001b[1;33m)\u001b[0m\u001b[1;33m.\u001b[0m\u001b[0mget\u001b[0m\u001b[1;33m(\u001b[0m\u001b[1;33m)\u001b[0m\u001b[1;33m\u001b[0m\u001b[1;33m\u001b[0m\u001b[0m\n\u001b[0m\u001b[0;32m    365\u001b[0m \u001b[1;33m\u001b[0m\u001b[0m\n\u001b[0;32m    366\u001b[0m     \u001b[1;32mdef\u001b[0m \u001b[0mstarmap\u001b[0m\u001b[1;33m(\u001b[0m\u001b[0mself\u001b[0m\u001b[1;33m,\u001b[0m \u001b[0mfunc\u001b[0m\u001b[1;33m,\u001b[0m \u001b[0miterable\u001b[0m\u001b[1;33m,\u001b[0m \u001b[0mchunksize\u001b[0m\u001b[1;33m=\u001b[0m\u001b[1;32mNone\u001b[0m\u001b[1;33m)\u001b[0m\u001b[1;33m:\u001b[0m\u001b[1;33m\u001b[0m\u001b[1;33m\u001b[0m\u001b[0m\n",
      "\u001b[1;32mc:\\users\\zadne\\appdata\\local\\programs\\python\\python38\\lib\\multiprocessing\\pool.py\u001b[0m in \u001b[0;36mget\u001b[1;34m(self, timeout)\u001b[0m\n\u001b[0;32m    760\u001b[0m \u001b[1;33m\u001b[0m\u001b[0m\n\u001b[0;32m    761\u001b[0m     \u001b[1;32mdef\u001b[0m \u001b[0mget\u001b[0m\u001b[1;33m(\u001b[0m\u001b[0mself\u001b[0m\u001b[1;33m,\u001b[0m \u001b[0mtimeout\u001b[0m\u001b[1;33m=\u001b[0m\u001b[1;32mNone\u001b[0m\u001b[1;33m)\u001b[0m\u001b[1;33m:\u001b[0m\u001b[1;33m\u001b[0m\u001b[1;33m\u001b[0m\u001b[0m\n\u001b[1;32m--> 762\u001b[1;33m         \u001b[0mself\u001b[0m\u001b[1;33m.\u001b[0m\u001b[0mwait\u001b[0m\u001b[1;33m(\u001b[0m\u001b[0mtimeout\u001b[0m\u001b[1;33m)\u001b[0m\u001b[1;33m\u001b[0m\u001b[1;33m\u001b[0m\u001b[0m\n\u001b[0m\u001b[0;32m    763\u001b[0m         \u001b[1;32mif\u001b[0m \u001b[1;32mnot\u001b[0m \u001b[0mself\u001b[0m\u001b[1;33m.\u001b[0m\u001b[0mready\u001b[0m\u001b[1;33m(\u001b[0m\u001b[1;33m)\u001b[0m\u001b[1;33m:\u001b[0m\u001b[1;33m\u001b[0m\u001b[1;33m\u001b[0m\u001b[0m\n\u001b[0;32m    764\u001b[0m             \u001b[1;32mraise\u001b[0m \u001b[0mTimeoutError\u001b[0m\u001b[1;33m\u001b[0m\u001b[1;33m\u001b[0m\u001b[0m\n",
      "\u001b[1;32mc:\\users\\zadne\\appdata\\local\\programs\\python\\python38\\lib\\multiprocessing\\pool.py\u001b[0m in \u001b[0;36mwait\u001b[1;34m(self, timeout)\u001b[0m\n\u001b[0;32m    757\u001b[0m \u001b[1;33m\u001b[0m\u001b[0m\n\u001b[0;32m    758\u001b[0m     \u001b[1;32mdef\u001b[0m \u001b[0mwait\u001b[0m\u001b[1;33m(\u001b[0m\u001b[0mself\u001b[0m\u001b[1;33m,\u001b[0m \u001b[0mtimeout\u001b[0m\u001b[1;33m=\u001b[0m\u001b[1;32mNone\u001b[0m\u001b[1;33m)\u001b[0m\u001b[1;33m:\u001b[0m\u001b[1;33m\u001b[0m\u001b[1;33m\u001b[0m\u001b[0m\n\u001b[1;32m--> 759\u001b[1;33m         \u001b[0mself\u001b[0m\u001b[1;33m.\u001b[0m\u001b[0m_event\u001b[0m\u001b[1;33m.\u001b[0m\u001b[0mwait\u001b[0m\u001b[1;33m(\u001b[0m\u001b[0mtimeout\u001b[0m\u001b[1;33m)\u001b[0m\u001b[1;33m\u001b[0m\u001b[1;33m\u001b[0m\u001b[0m\n\u001b[0m\u001b[0;32m    760\u001b[0m \u001b[1;33m\u001b[0m\u001b[0m\n\u001b[0;32m    761\u001b[0m     \u001b[1;32mdef\u001b[0m \u001b[0mget\u001b[0m\u001b[1;33m(\u001b[0m\u001b[0mself\u001b[0m\u001b[1;33m,\u001b[0m \u001b[0mtimeout\u001b[0m\u001b[1;33m=\u001b[0m\u001b[1;32mNone\u001b[0m\u001b[1;33m)\u001b[0m\u001b[1;33m:\u001b[0m\u001b[1;33m\u001b[0m\u001b[1;33m\u001b[0m\u001b[0m\n",
      "\u001b[1;32mc:\\users\\zadne\\appdata\\local\\programs\\python\\python38\\lib\\threading.py\u001b[0m in \u001b[0;36mwait\u001b[1;34m(self, timeout)\u001b[0m\n\u001b[0;32m    556\u001b[0m             \u001b[0msignaled\u001b[0m \u001b[1;33m=\u001b[0m \u001b[0mself\u001b[0m\u001b[1;33m.\u001b[0m\u001b[0m_flag\u001b[0m\u001b[1;33m\u001b[0m\u001b[1;33m\u001b[0m\u001b[0m\n\u001b[0;32m    557\u001b[0m             \u001b[1;32mif\u001b[0m \u001b[1;32mnot\u001b[0m \u001b[0msignaled\u001b[0m\u001b[1;33m:\u001b[0m\u001b[1;33m\u001b[0m\u001b[1;33m\u001b[0m\u001b[0m\n\u001b[1;32m--> 558\u001b[1;33m                 \u001b[0msignaled\u001b[0m \u001b[1;33m=\u001b[0m \u001b[0mself\u001b[0m\u001b[1;33m.\u001b[0m\u001b[0m_cond\u001b[0m\u001b[1;33m.\u001b[0m\u001b[0mwait\u001b[0m\u001b[1;33m(\u001b[0m\u001b[0mtimeout\u001b[0m\u001b[1;33m)\u001b[0m\u001b[1;33m\u001b[0m\u001b[1;33m\u001b[0m\u001b[0m\n\u001b[0m\u001b[0;32m    559\u001b[0m             \u001b[1;32mreturn\u001b[0m \u001b[0msignaled\u001b[0m\u001b[1;33m\u001b[0m\u001b[1;33m\u001b[0m\u001b[0m\n\u001b[0;32m    560\u001b[0m \u001b[1;33m\u001b[0m\u001b[0m\n",
      "\u001b[1;32mc:\\users\\zadne\\appdata\\local\\programs\\python\\python38\\lib\\threading.py\u001b[0m in \u001b[0;36mwait\u001b[1;34m(self, timeout)\u001b[0m\n\u001b[0;32m    300\u001b[0m         \u001b[1;32mtry\u001b[0m\u001b[1;33m:\u001b[0m    \u001b[1;31m# restore state no matter what (e.g., KeyboardInterrupt)\u001b[0m\u001b[1;33m\u001b[0m\u001b[1;33m\u001b[0m\u001b[0m\n\u001b[0;32m    301\u001b[0m             \u001b[1;32mif\u001b[0m \u001b[0mtimeout\u001b[0m \u001b[1;32mis\u001b[0m \u001b[1;32mNone\u001b[0m\u001b[1;33m:\u001b[0m\u001b[1;33m\u001b[0m\u001b[1;33m\u001b[0m\u001b[0m\n\u001b[1;32m--> 302\u001b[1;33m                 \u001b[0mwaiter\u001b[0m\u001b[1;33m.\u001b[0m\u001b[0macquire\u001b[0m\u001b[1;33m(\u001b[0m\u001b[1;33m)\u001b[0m\u001b[1;33m\u001b[0m\u001b[1;33m\u001b[0m\u001b[0m\n\u001b[0m\u001b[0;32m    303\u001b[0m                 \u001b[0mgotit\u001b[0m \u001b[1;33m=\u001b[0m \u001b[1;32mTrue\u001b[0m\u001b[1;33m\u001b[0m\u001b[1;33m\u001b[0m\u001b[0m\n\u001b[0;32m    304\u001b[0m             \u001b[1;32melse\u001b[0m\u001b[1;33m:\u001b[0m\u001b[1;33m\u001b[0m\u001b[1;33m\u001b[0m\u001b[0m\n",
      "\u001b[1;31mKeyboardInterrupt\u001b[0m: "
     ]
    }
   ],
   "source": [
    "ev.run(dump=\"best.pkl\")"
   ]
  },
  {
   "cell_type": "code",
   "execution_count": 11,
   "metadata": {
    "scrolled": true
   },
   "outputs": [
    {
     "data": {
      "image/png": "[encoded data removed]",
      "text/plain": [
       "<Figure size 1152x288 with 1 Axes>"
      ]
     },
     "metadata": {},
     "output_type": "display_data"
    }
   ],
   "source": [
    "plot([ res[\"fitness\"].fitness for res in ev._run_results ], \"fitness\")"
   ]
  },
  {
   "cell_type": "code",
   "execution_count": null,
   "metadata": {},
   "outputs": [],
   "source": [
    "ev.print_generation()"
   ]
  },
  {
   "cell_type": "markdown",
   "metadata": {},
   "source": [
    "## Working with results"
   ]
  },
  {
   "cell_type": "code",
   "execution_count": 9,
   "metadata": {
    "scrolled": false
   },
   "outputs": [],
   "source": [
    "fitness = FitnessTest()"
   ]
  },
  {
   "cell_type": "code",
   "execution_count": 1,
   "metadata": {
    "scrolled": false
   },
   "outputs": [
    {
     "ename": "NameError",
     "evalue": "name 'pickle' is not defined",
     "output_type": "error",
     "traceback": [
      "\u001b[1;31m---------------------------------------------------------------------------\u001b[0m",
      "\u001b[1;31mNameError\u001b[0m                                 Traceback (most recent call last)",
      "\u001b[1;32m<ipython-input-1-5829e6bbc4d3>\u001b[0m in \u001b[0;36m<module>\u001b[1;34m\u001b[0m\n\u001b[0;32m      1\u001b[0m \u001b[1;32mwith\u001b[0m \u001b[0mopen\u001b[0m\u001b[1;33m(\u001b[0m\u001b[1;34m\"indivs/best1.pkl\"\u001b[0m\u001b[1;33m,\u001b[0m \u001b[1;34m'rb'\u001b[0m\u001b[1;33m)\u001b[0m \u001b[1;32mas\u001b[0m \u001b[0mfile\u001b[0m\u001b[1;33m:\u001b[0m\u001b[1;33m\u001b[0m\u001b[1;33m\u001b[0m\u001b[0m\n\u001b[1;32m----> 2\u001b[1;33m     \u001b[0mindivs\u001b[0m \u001b[1;33m=\u001b[0m \u001b[0mpickle\u001b[0m\u001b[1;33m.\u001b[0m\u001b[0mload\u001b[0m\u001b[1;33m(\u001b[0m\u001b[0mfile\u001b[0m\u001b[1;33m)\u001b[0m\u001b[1;33m\u001b[0m\u001b[1;33m\u001b[0m\u001b[0m\n\u001b[0m\u001b[0;32m      3\u001b[0m \u001b[0mindiv\u001b[0m \u001b[1;33m=\u001b[0m \u001b[0mindivs\u001b[0m\u001b[1;33m[\u001b[0m\u001b[1;36m0\u001b[0m\u001b[1;33m]\u001b[0m\u001b[1;33m\u001b[0m\u001b[1;33m\u001b[0m\u001b[0m\n\u001b[0;32m      4\u001b[0m \u001b[0mindiv\u001b[0m\u001b[1;33m.\u001b[0m\u001b[0mfitness\u001b[0m \u001b[1;33m=\u001b[0m \u001b[1;32mNone\u001b[0m\u001b[1;33m\u001b[0m\u001b[1;33m\u001b[0m\u001b[0m\n\u001b[0;32m      5\u001b[0m \u001b[0mfitness\u001b[0m\u001b[1;33m.\u001b[0m\u001b[0mcalc\u001b[0m\u001b[1;33m(\u001b[0m\u001b[1;33m[\u001b[0m\u001b[0mindiv\u001b[0m\u001b[1;33m]\u001b[0m\u001b[1;33m,\u001b[0m \u001b[0mext_info\u001b[0m\u001b[1;33m=\u001b[0m\u001b[1;32mTrue\u001b[0m\u001b[1;33m)\u001b[0m\u001b[1;33m\u001b[0m\u001b[1;33m\u001b[0m\u001b[0m\n",
      "\u001b[1;31mNameError\u001b[0m: name 'pickle' is not defined"
     ]
    }
   ],
   "source": [
    "with open(\"indivs/best1.pkl\", 'rb') as file:\n",
    "    indivs = pickle.load(file)\n",
    "indiv = indivs[0]\n",
    "indiv.fitness = None\n",
    "fitness.calc([indiv], ext_info=True)\n",
    "\n",
    "print(indiv.fitness)\n",
    "plot(indiv.fitness.fitness_list)"
   ]
  },
  {
   "cell_type": "code",
   "execution_count": 35,
   "metadata": {
    "scrolled": true
   },
   "outputs": [
    {
     "name": "stdout",
     "output_type": "stream",
     "text": [
      "unequal trades: 25\n",
      "\n",
      "#141 real: stops:take:bu = 0:0:1\n",
      " emulated: stops:take:bu = 0:0:0, model line 2886\n",
      "#150 real: stops:take:bu = 0:0:1\n",
      " emulated: no trade, no model in db\n",
      "#157 real: stops:take:bu = 1:0:0\n",
      " emulated: stops:take:bu = 1:1:0, model line 3290\n",
      "#159 real: stops:take:bu = 1:0:0\n",
      " emulated: stops:take:bu = 0:0:0, model line 3303\n",
      "#161 real: stops:take:bu = 0:0:1\n",
      " emulated: no trade, no model in db\n",
      "#172 real: stops:take:bu = 0:0:1\n",
      " emulated: stops:take:bu = 0:0:0, model line 3560\n",
      "#177 real: stops:take:bu = 0:0:0\n",
      " emulated: no trade, model line 3642\n",
      "#207 real: stops:take:bu = 0:0:0\n",
      " emulated: no trade, model line 4302\n",
      "#254 real: stops:take:bu = 1:0:1\n",
      " emulated: no trade, model line 5161\n",
      "#264 real: stops:take:bu = 0:1:0\n",
      " emulated: no trade, model line 5402\n",
      "#281 real: stops:take:bu = 0:0:0\n",
      " emulated: no trade, no model in db\n",
      "#291 real: stops:take:bu = 0:0:0\n",
      " emulated: no trade, no model in db\n",
      "#292 real: stops:take:bu = 1:0:0\n",
      " emulated: no trade, no model in db\n",
      "#366 real: stops:take:bu = 0:0:1\n",
      " emulated: stops:take:bu = 0:1:0, model line 7718\n",
      "#371 real: stops:take:bu = 0:0:1\n",
      " emulated: stops:take:bu = 0:0:0, model line 7768\n",
      "#372 real: stops:take:bu = 0:1:0\n",
      " emulated: no trade, model line 7822\n",
      "#380 real: stops:take:bu = 0:0:0\n",
      " emulated: no trade, no model in db\n",
      "#389 real: stops:take:bu = 0:0:0\n",
      " emulated: no trade, no model in db\n",
      "#425 real: stops:take:bu = 0:0:0\n",
      " emulated: no trade, model line 8647\n",
      "#435 real: stops:take:bu = 0:0:0\n",
      " emulated: no trade, model line 8853\n",
      "#440 real: stops:take:bu = 1:0:0\n",
      " emulated: stops:take:bu = 2:0:0, model line 8936\n",
      "#442 real: stops:take:bu = 0:0:0\n",
      " emulated: no trade, model line 8990\n",
      "#443 real: stops:take:bu = 0:0:0\n",
      " emulated: no trade, model line 9009\n",
      "#446 real: stops:take:bu = 1:0:0\n",
      " emulated: stops:take:bu = 0:0:0, model line 9074\n",
      "#462 real: stops:take:bu = 0:0:0\n",
      " emulated: no trade, no model in db\n"
     ]
    }
   ],
   "source": [
    "compare_trading_reports(fitness, indiv.fitness)"
   ]
  },
  {
   "cell_type": "code",
   "execution_count": 8,
   "metadata": {
    "scrolled": false
   },
   "outputs": [
    {
     "data": {
      "text/html": [
       "<table>\n",
       "<tbody>\n",
       "<tr><td># </td><td>Line</td><td>Time               </td><td>Type      </td><td>Order</td><td>Price  </td><td>S/L    </td><td>T/P    </td></tr>\n",
       "<tr><td>1 </td><td>4   </td><td>2018.01.02 03:40:00</td><td>sell limit</td><td>1    </td><td>1.35123</td><td>1.35209</td><td>1.34968</td></tr>\n",
       "<tr><td>2 </td><td>4   </td><td>2018.01.02 03:58:00</td><td>sell      </td><td>1    </td><td>1.35123</td><td>1.35209</td><td>1.34968</td></tr>\n",
       "<tr><td>3 </td><td>4   </td><td>2018.01.02 05:20:00</td><td>s/l(buy)  </td><td>1    </td><td>1.35209</td><td>1.35209</td><td>1.34968</td></tr>\n",
       "<tr><td>4 </td><td>4   </td><td>2018.01.02 05:20:00</td><td>sell limit</td><td>2    </td><td>1.35123</td><td>1.35209</td><td>1.34968</td></tr>\n",
       "<tr><td>5 </td><td>4   </td><td>2018.01.02 06:05:00</td><td>expiration</td><td>2    </td><td>1.35123</td><td>1.35209</td><td>1.34968</td></tr>\n",
       "<tr><td>6 </td><td>11  </td><td>2018.01.02 07:05:00</td><td>buy limit </td><td>3    </td><td>1.35159</td><td>1.35105</td><td>1.35257</td></tr>\n",
       "<tr><td>7 </td><td>11  </td><td>2018.01.02 07:15:00</td><td>buy       </td><td>3    </td><td>1.35159</td><td>1.35105</td><td>1.35257</td></tr>\n",
       "<tr><td>8 </td><td>11  </td><td>2018.01.02 08:01:00</td><td>s/l(sell) </td><td>3    </td><td>1.35192</td><td>1.35192</td><td>1.35257</td></tr>\n",
       "<tr><td>9 </td><td>19  </td><td>2018.01.02 16:30:00</td><td>buy limit </td><td>4    </td><td>1.35605</td><td>1.35497</td><td>1.35801</td></tr>\n",
       "<tr><td>10</td><td>19  </td><td>2018.01.02 16:50:00</td><td>delete    </td><td>4    </td><td>1.35605</td><td>1.35497</td><td>1.35801</td></tr>\n",
       "<tr><td>11</td><td>48  </td><td>2018.01.03 23:10:00</td><td>buy limit </td><td>5    </td><td>1.35188</td><td>1.35091</td><td>1.35363</td></tr>\n",
       "<tr><td>12</td><td>48  </td><td>2018.01.03 23:55:00</td><td>expiration</td><td>5    </td><td>1.35188</td><td>1.35091</td><td>1.35363</td></tr>\n",
       "<tr><td>13</td><td>79  </td><td>2018.01.04 06:20:00</td><td>sell limit</td><td>6    </td><td>1.35164</td><td>1.35223</td><td>1.35056</td></tr>\n",
       "<tr><td>14</td><td>79  </td><td>2018.01.04 07:05:00</td><td>expiration</td><td>6    </td><td>1.35164</td><td>1.35223</td><td>1.35056</td></tr>\n",
       "<tr><td>15</td><td>90  </td><td>2018.01.04 10:30:00</td><td>sell limit</td><td>7    </td><td>1.35193</td><td>1.35297</td><td>1.35004</td></tr>\n",
       "<tr><td>16</td><td>90  </td><td>2018.01.04 10:36:00</td><td>delete    </td><td>7    </td><td>1.35193</td><td>1.35297</td><td>1.35004</td></tr>\n",
       "<tr><td>17</td><td>162 </td><td>2018.01.08 15:30:00</td><td>buy limit </td><td>8    </td><td>1.35504</td><td>1.35358</td><td>1.35768</td></tr>\n",
       "<tr><td>18</td><td>162 </td><td>2018.01.08 16:05:00</td><td>buy       </td><td>8    </td><td>1.35504</td><td>1.35358</td><td>1.35768</td></tr>\n",
       "<tr><td>19</td><td>162 </td><td>2018.01.08 17:58:00</td><td>t/p(sell) </td><td>8    </td><td>1.35768</td><td>1.35593</td><td>1.35768</td></tr>\n",
       "<tr><td>20</td><td>167 </td><td>2018.01.08 16:20:00</td><td>sell limit</td><td>9    </td><td>1.35405</td><td>1.35523</td><td>1.35191</td></tr>\n",
       "<tr><td>21</td><td>167 </td><td>2018.01.08 16:29:00</td><td>sell      </td><td>9    </td><td>1.35405</td><td>1.35523</td><td>1.35191</td></tr>\n",
       "<tr><td>22</td><td>167 </td><td>2018.01.08 16:53:00</td><td>s/l(buy)  </td><td>9    </td><td>1.35523</td><td>1.35523</td><td>1.35191</td></tr>\n",
       "<tr><td>23</td><td>167 </td><td>2018.01.08 16:55:00</td><td>delete    </td><td>9    </td><td>1.35405</td><td>1.35523</td><td>1.35191</td></tr>\n",
       "<tr><td>24</td><td>187 </td><td>2018.01.09 02:20:00</td><td>buy limit </td><td>10   </td><td>1.357  </td><td>1.35647</td><td>1.35795</td></tr>\n",
       "<tr><td>25</td><td>187 </td><td>2018.01.09 02:24:00</td><td>delete    </td><td>10   </td><td>1.357  </td><td>1.35647</td><td>1.35795</td></tr>\n",
       "<tr><td>26</td><td>209 </td><td>2018.01.09 14:00:00</td><td>sell limit</td><td>11   </td><td>1.35286</td><td>1.3539 </td><td>1.35098</td></tr>\n",
       "<tr><td>27</td><td>209 </td><td>2018.01.09 14:01:00</td><td>delete    </td><td>11   </td><td>1.35286</td><td>1.3539 </td><td>1.35098</td></tr>\n",
       "<tr><td>28</td><td>222 </td><td>2018.01.10 01:20:00</td><td>buy limit </td><td>12   </td><td>1.35403</td><td>1.35361</td><td>1.35478</td></tr>\n",
       "<tr><td>29</td><td>222 </td><td>2018.01.10 01:23:00</td><td>delete    </td><td>12   </td><td>1.35403</td><td>1.35361</td><td>1.35478</td></tr>\n",
       "<tr><td>30</td><td>235 </td><td>2018.01.10 05:15:00</td><td>sell limit</td><td>13   </td><td>1.35328</td><td>1.35374</td><td>1.35244</td></tr>\n",
       "<tr><td>31</td><td>235 </td><td>2018.01.10 05:59:00</td><td>sell      </td><td>13   </td><td>1.35328</td><td>1.35374</td><td>1.35244</td></tr>\n",
       "<tr><td>32</td><td>235 </td><td>2018.01.10 07:32:00</td><td>s/l(buy)  </td><td>13   </td><td>1.353  </td><td>1.353  </td><td>1.35244</td></tr>\n",
       "<tr><td>33</td><td>246 </td><td>2018.01.10 16:20:00</td><td>sell limit</td><td>14   </td><td>1.35279</td><td>1.35415</td><td>1.35033</td></tr>\n",
       "<tr><td>34</td><td>246 </td><td>2018.01.10 16:28:00</td><td>sell      </td><td>14   </td><td>1.35279</td><td>1.35415</td><td>1.35033</td></tr>\n",
       "<tr><td>35</td><td>246 </td><td>2018.01.10 17:08:00</td><td>s/l(buy)  </td><td>14   </td><td>1.35196</td><td>1.35196</td><td>1.35033</td></tr>\n",
       "<tr><td>36</td><td>288 </td><td>2018.01.11 18:25:00</td><td>sell limit</td><td>15   </td><td>1.35342</td><td>1.3548 </td><td>1.35092</td></tr>\n",
       "<tr><td>37</td><td>288 </td><td>2018.01.11 18:33:00</td><td>delete    </td><td>15   </td><td>1.35342</td><td>1.3548 </td><td>1.35092</td></tr>\n",
       "<tr><td>38</td><td>292 </td><td>2018.01.11 21:05:00</td><td>buy limit </td><td>16   </td><td>1.3542 </td><td>1.3532 </td><td>1.35602</td></tr>\n",
       "<tr><td>39</td><td>292 </td><td>2018.01.11 21:33:00</td><td>delete    </td><td>16   </td><td>1.3542 </td><td>1.3532 </td><td>1.35602</td></tr>\n",
       "<tr><td>40</td><td>298 </td><td>2018.01.11 22:10:00</td><td>sell limit</td><td>17   </td><td>1.35325</td><td>1.35405</td><td>1.35181</td></tr>\n",
       "<tr><td>41</td><td>298 </td><td>2018.01.11 22:55:00</td><td>expiration</td><td>17   </td><td>1.35325</td><td>1.35405</td><td>1.35181</td></tr>\n",
       "<tr><td>42</td><td>312 </td><td>2018.01.12 02:05:00</td><td>delete    </td><td>17   </td><td>1.35373</td><td>1.35438</td><td>1.35254</td></tr>\n",
       "<tr><td>43</td><td>317 </td><td>2018.01.12 07:25:00</td><td>sell limit</td><td>18   </td><td>1.35453</td><td>1.35507</td><td>1.35356</td></tr>\n",
       "<tr><td>44</td><td>317 </td><td>2018.01.12 07:27:00</td><td>sell      </td><td>18   </td><td>1.35453</td><td>1.35507</td><td>1.35356</td></tr>\n",
       "<tr><td>45</td><td>317 </td><td>2018.01.12 07:53:00</td><td>s/l(buy)  </td><td>18   </td><td>1.3542 </td><td>1.3542 </td><td>1.35356</td></tr>\n",
       "<tr><td>46</td><td>345 </td><td>2018.01.15 01:10:00</td><td>sell limit</td><td>19   </td><td>1.37308</td><td>1.37424</td><td>1.37097</td></tr>\n",
       "<tr><td>47</td><td>345 </td><td>2018.01.15 01:55:00</td><td>expiration</td><td>19   </td><td>1.37308</td><td>1.37424</td><td>1.37097</td></tr>\n",
       "<tr><td>48</td><td>355 </td><td>2018.01.15 05:05:00</td><td>buy limit </td><td>20   </td><td>1.37422</td><td>1.37306</td><td>1.37632</td></tr>\n",
       "<tr><td>49</td><td>355 </td><td>2018.01.15 05:50:00</td><td>expiration</td><td>20   </td><td>1.37422</td><td>1.37306</td><td>1.37632</td></tr>\n",
       "<tr><td>50</td><td>381 </td><td>2018.01.16 08:00:00</td><td>buy limit </td><td>21   </td><td>1.37929</td><td>1.37868</td><td>1.38039</td></tr>\n",
       "<tr><td>51</td><td>381 </td><td>2018.01.16 08:02:00</td><td>delete    </td><td>21   </td><td>1.37929</td><td>1.37868</td><td>1.38039</td></tr>\n",
       "<tr><td>52</td><td>388 </td><td>2018.01.16 14:55:00</td><td>sell limit</td><td>22   </td><td>1.37496</td><td>1.37641</td><td>1.37234</td></tr>\n",
       "<tr><td>53</td><td>388 </td><td>2018.01.16 15:40:00</td><td>expiration</td><td>22   </td><td>1.37496</td><td>1.37641</td><td>1.37234</td></tr>\n",
       "<tr><td>54</td><td>407 </td><td>2018.01.16 19:50:00</td><td>sell limit</td><td>23   </td><td>1.37686</td><td>1.37792</td><td>1.37494</td></tr>\n",
       "<tr><td>55</td><td>407 </td><td>2018.01.16 20:28:00</td><td>delete    </td><td>23   </td><td>1.37686</td><td>1.37792</td><td>1.37494</td></tr>\n",
       "<tr><td>56</td><td>423 </td><td>2018.01.17 15:00:00</td><td>buy limit </td><td>24   </td><td>1.37885</td><td>1.3777 </td><td>1.38093</td></tr>\n",
       "<tr><td>57</td><td>423 </td><td>2018.01.17 15:34:00</td><td>buy       </td><td>24   </td><td>1.37885</td><td>1.3777 </td><td>1.38093</td></tr>\n",
       "<tr><td>58</td><td>423 </td><td>2018.01.17 15:51:00</td><td>s/l(sell) </td><td>24   </td><td>1.37955</td><td>1.37955</td><td>1.38093</td></tr>\n",
       "<tr><td>59</td><td>430 </td><td>2018.01.17 16:25:00</td><td>sell limit</td><td>25   </td><td>1.37916</td><td>1.38042</td><td>1.37688</td></tr>\n",
       "<tr><td>60</td><td>430 </td><td>2018.01.17 17:07:00</td><td>delete    </td><td>25   </td><td>1.37916</td><td>1.38042</td><td>1.37688</td></tr>\n",
       "<tr><td>61</td><td>448 </td><td>2018.01.18 10:45:00</td><td>sell limit</td><td>26   </td><td>1.38335</td><td>1.38476</td><td>1.38079</td></tr>\n",
       "<tr><td>62</td><td>448 </td><td>2018.01.18 10:46:00</td><td>sell      </td><td>26   </td><td>1.38335</td><td>1.38476</td><td>1.38079</td></tr>\n",
       "<tr><td>63</td><td>448 </td><td>2018.01.18 11:06:00</td><td>s/l(buy)  </td><td>26   </td><td>1.38249</td><td>1.38249</td><td>1.38079</td></tr>\n",
       "<tr><td>64</td><td>450 </td><td>2018.01.18 12:35:00</td><td>buy limit </td><td>27   </td><td>1.38399</td><td>1.38273</td><td>1.38627</td></tr>\n",
       "<tr><td>65</td><td>450 </td><td>2018.01.18 12:41:00</td><td>buy       </td><td>27   </td><td>1.38399</td><td>1.38273</td><td>1.38627</td></tr>\n",
       "<tr><td>66</td><td>450 </td><td>2018.01.18 12:58:00</td><td>t/p(sell) </td><td>27   </td><td>1.38627</td><td>1.38476</td><td>1.38627</td></tr>\n",
       "<tr><td>67</td><td>457 </td><td>2018.01.19 05:05:00</td><td>buy limit </td><td>28   </td><td>1.39005</td><td>1.38908</td><td>1.39181</td></tr>\n",
       "<tr><td>68</td><td>457 </td><td>2018.01.19 05:11:00</td><td>buy       </td><td>28   </td><td>1.39005</td><td>1.38908</td><td>1.39181</td></tr>\n",
       "<tr><td>69</td><td>457 </td><td>2018.01.19 05:57:00</td><td>t/p(sell) </td><td>28   </td><td>1.39181</td><td>1.39064</td><td>1.39181</td></tr>\n",
       "<tr><td>70</td><td>464 </td><td>2018.01.22 03:15:00</td><td>buy limit </td><td>29   </td><td>1.38862</td><td>1.38718</td><td>1.39123</td></tr>\n",
       "<tr><td>71</td><td>464 </td><td>2018.01.22 03:16:00</td><td>delete    </td><td>29   </td><td>1.38862</td><td>1.38718</td><td>1.39123</td></tr>\n",
       "<tr><td>72</td><td>480 </td><td>2018.01.22 14:00:00</td><td>buy limit </td><td>30   </td><td>1.39072</td><td>1.38944</td><td>1.39304</td></tr>\n",
       "<tr><td>73</td><td>480 </td><td>2018.01.22 14:03:00</td><td>buy       </td><td>30   </td><td>1.39072</td><td>1.38944</td><td>1.39304</td></tr>\n",
       "<tr><td>74</td><td>480 </td><td>2018.01.22 14:41:00</td><td>s/l(sell) </td><td>30   </td><td>1.38944</td><td>1.38944</td><td>1.39304</td></tr>\n",
       "<tr><td>75</td><td>526 </td><td>2018.01.24 23:25:00</td><td>sell limit</td><td>31   </td><td>1.42031</td><td>1.42137</td><td>1.41839</td></tr>\n",
       "<tr><td>76</td><td>526 </td><td>2018.01.24 23:33:00</td><td>delete    </td><td>31   </td><td>1.42031</td><td>1.42137</td><td>1.41839</td></tr>\n",
       "<tr><td>77</td><td>554 </td><td>2018.01.26 10:55:00</td><td>buy limit </td><td>32   </td><td>1.42376</td><td>1.42176</td><td>1.42738</td></tr>\n",
       "<tr><td>78</td><td>554 </td><td>2018.01.26 10:55:00</td><td>buy       </td><td>32   </td><td>1.42376</td><td>1.42176</td><td>1.42738</td></tr>\n",
       "<tr><td>79</td><td>554 </td><td>2018.01.26 11:29:00</td><td>s/l(sell) </td><td>32   </td><td>1.42498</td><td>1.42498</td><td>1.42738</td></tr>\n",
       "<tr><td>80</td><td>557 </td><td>2018.01.26 13:25:00</td><td>sell limit</td><td>33   </td><td>1.42431</td><td>1.42606</td><td>1.42115</td></tr>\n",
       "<tr><td>81</td><td>557 </td><td>2018.01.26 13:38:00</td><td>delete    </td><td>33   </td><td>1.42431</td><td>1.42606</td><td>1.42115</td></tr>\n",
       "<tr><td>82</td><td>563 </td><td>2018.01.26 20:10:00</td><td>sell limit</td><td>34   </td><td>1.41794</td><td>1.41964</td><td>1.41487</td></tr>\n",
       "<tr><td>83</td><td>563 </td><td>2018.01.26 20:55:00</td><td>expiration</td><td>34   </td><td>1.41794</td><td>1.41964</td><td>1.41487</td></tr>\n",
       "<tr><td>84</td><td>574 </td><td>2018.01.29 07:45:00</td><td>buy limit </td><td>35   </td><td>1.41421</td><td>1.41316</td><td>1.41611</td></tr>\n",
       "<tr><td>85</td><td>574 </td><td>2018.01.29 07:47:00</td><td>delete    </td><td>35   </td><td>1.41421</td><td>1.41316</td><td>1.41611</td></tr>\n",
       "<tr><td>86</td><td>603 </td><td>2018.01.30 17:05:00</td><td>buy limit </td><td>36   </td><td>1.41449</td><td>1.41252</td><td>1.41805</td></tr>\n",
       "<tr><td>87</td><td>603 </td><td>2018.01.30 17:13:00</td><td>delete    </td><td>36   </td><td>1.41449</td><td>1.41252</td><td>1.41805</td></tr>\n",
       "<tr><td>88</td><td>619 </td><td>2018.01.31 13:10:00</td><td>sell limit</td><td>37   </td><td>1.41357</td><td>1.41543</td><td>1.41021</td></tr>\n",
       "<tr><td>89</td><td>619 </td><td>2018.01.31 13:11:00</td><td>delete    </td><td>37   </td><td>1.41357</td><td>1.41543</td><td>1.41021</td></tr>\n",
       "<tr><td>90</td><td>625 </td><td>2018.01.31 20:05:00</td><td>buy limit </td><td>38   </td><td>1.41938</td><td>1.41745</td><td>1.42288</td></tr>\n",
       "<tr><td>91</td><td>625 </td><td>2018.01.31 20:39:00</td><td>buy       </td><td>38   </td><td>1.41938</td><td>1.41745</td><td>1.42288</td></tr>\n",
       "<tr><td>92</td><td>625 </td><td>2018.01.31 21:00:00</td><td>s/l(sell) </td><td>38   </td><td>1.41745</td><td>1.41745</td><td>1.42288</td></tr>\n",
       "<tr><td>93</td><td>644 </td><td>2018.02.01 03:05:00</td><td>buy limit </td><td>39   </td><td>1.42066</td><td>1.41941</td><td>1.42293</td></tr>\n",
       "<tr><td>94</td><td>644 </td><td>2018.02.01 03:16:00</td><td>delete    </td><td>39   </td><td>1.42066</td><td>1.41941</td><td>1.42293</td></tr>\n",
       "<tr><td>95</td><td>697 </td><td>2018.02.02 05:35:00</td><td>sell limit</td><td>40   </td><td>1.42572</td><td>1.42727</td><td>1.42292</td></tr>\n",
       "<tr><td>96</td><td>697 </td><td>2018.02.02 06:20:00</td><td>expiration</td><td>40   </td><td>1.42572</td><td>1.42727</td><td>1.42292</td></tr>\n",
       "<tr><td>97</td><td>717 </td><td>2018.02.02 13:05:00</td><td>sell limit</td><td>41   </td><td>1.42076</td><td>1.42246</td><td>1.41769</td></tr>\n",
       "<tr><td>98</td><td>717 </td><td>2018.02.02 13:16:00</td><td>delete    </td><td>41   </td><td>1.42076</td><td>1.42246</td><td>1.41769</td></tr>\n",
       "<tr><td>99</td><td>782 </td><td>2018.02.06 20:15:00</td><td>buy limit </td><td>42   </td><td>1.39708</td><td>1.39482</td><td>1.40117</td></tr>\n",
       "</tbody>\n",
       "</table>"
      ],
      "text/plain": [
       "<IPython.core.display.HTML object>"
      ]
     },
     "metadata": {},
     "output_type": "display_data"
    }
   ],
   "source": [
    "table = [[\"#\", \"Line\", \"Time\", \"Type\", \"Order\", \"Price\", \"S/L\", \"T/P\"]]\n",
    "table.extend(indiv.fitness.trade_history)\n",
    "display(HTML(tabulate.tabulate(table[:100], tablefmt='html')))"
   ]
  },
  {
   "cell_type": "code",
   "execution_count": 11,
   "metadata": {
    "scrolled": true
   },
   "outputs": [
    {
     "name": "stdout",
     "output_type": "stream",
     "text": [
      "Indiv parameters:\n",
      "3, 11\n",
      "3.5, 29.5\n",
      "2, 10\n",
      "0, 4\n",
      "1.0070585027943646, 1.7303417370609417\n",
      "0.29267781717635755, 0.7896875952898652\n",
      "0.207153766253373, 0.9345719650810594\n",
      "0.17176705333262407, 0.5812044659395345\n",
      "0.007834128474761781, 0.49747875617145026\n",
      "-0.9696905230473547\n",
      "1.411941362001629\n",
      "1.644612078623053\n",
      "2.5563196037937206\n",
      "0.8612886924074048\n",
      "1.174851030373052\n",
      "0.6338850931927347\n",
      "5\n",
      "45\n",
      "45\n",
      "Inidiv models:\n"
     ]
    },
    {
     "ename": "AttributeError",
     "evalue": "'FitnessResult' object has no attribute 'model_indexes'",
     "output_type": "error",
     "traceback": [
      "\u001b[1;31m---------------------------------------------------------------------------\u001b[0m",
      "\u001b[1;31mAttributeError\u001b[0m                            Traceback (most recent call last)",
      "\u001b[1;32m<ipython-input-11-271da10945c6>\u001b[0m in \u001b[0;36m<module>\u001b[1;34m\u001b[0m\n\u001b[0;32m     12\u001b[0m \u001b[0mtrades\u001b[0m \u001b[1;33m=\u001b[0m \u001b[1;36m0\u001b[0m\u001b[1;33m\u001b[0m\u001b[1;33m\u001b[0m\u001b[0m\n\u001b[0;32m     13\u001b[0m \u001b[0mtable\u001b[0m \u001b[1;33m=\u001b[0m \u001b[1;33m[\u001b[0m\u001b[1;33m[\u001b[0m\u001b[1;34m\"model number\"\u001b[0m\u001b[1;33m,\u001b[0m \u001b[1;34m\"stops\"\u001b[0m\u001b[1;33m,\u001b[0m \u001b[1;34m\"take\"\u001b[0m\u001b[1;33m,\u001b[0m \u001b[1;34m\"bu\"\u001b[0m\u001b[1;33m]\u001b[0m\u001b[1;33m]\u001b[0m\u001b[1;33m\u001b[0m\u001b[1;33m\u001b[0m\u001b[0m\n\u001b[1;32m---> 14\u001b[1;33m \u001b[1;32mfor\u001b[0m \u001b[0midx\u001b[0m \u001b[1;32min\u001b[0m \u001b[0mrange\u001b[0m\u001b[1;33m(\u001b[0m\u001b[0mlen\u001b[0m\u001b[1;33m(\u001b[0m\u001b[0mfit_params\u001b[0m\u001b[1;33m.\u001b[0m\u001b[0mmodel_indexes\u001b[0m\u001b[1;33m)\u001b[0m\u001b[1;33m)\u001b[0m\u001b[1;33m:\u001b[0m\u001b[1;33m\u001b[0m\u001b[1;33m\u001b[0m\u001b[0m\n\u001b[0m\u001b[0;32m     15\u001b[0m     \u001b[1;32mif\u001b[0m \u001b[1;32mnot\u001b[0m \u001b[0mcount_empty_models\u001b[0m \u001b[1;32mand\u001b[0m \u001b[0mfit_params\u001b[0m\u001b[1;33m.\u001b[0m\u001b[0mstops\u001b[0m\u001b[1;33m[\u001b[0m\u001b[0midx\u001b[0m\u001b[1;33m]\u001b[0m \u001b[1;33m==\u001b[0m \u001b[1;36m0\u001b[0m \u001b[1;32mand\u001b[0m\u001b[0;31m \u001b[0m\u001b[0;31m\\\u001b[0m\u001b[1;33m\u001b[0m\u001b[1;33m\u001b[0m\u001b[0m\n\u001b[0;32m     16\u001b[0m        \u001b[0mfit_params\u001b[0m\u001b[1;33m.\u001b[0m\u001b[0mtakes\u001b[0m\u001b[1;33m[\u001b[0m\u001b[0midx\u001b[0m\u001b[1;33m]\u001b[0m \u001b[1;33m==\u001b[0m \u001b[1;36m0\u001b[0m \u001b[1;32mand\u001b[0m \u001b[0mfit_params\u001b[0m\u001b[1;33m.\u001b[0m\u001b[0mbus\u001b[0m\u001b[1;33m[\u001b[0m\u001b[0midx\u001b[0m\u001b[1;33m]\u001b[0m \u001b[1;33m==\u001b[0m \u001b[1;36m0\u001b[0m\u001b[1;33m:\u001b[0m\u001b[1;33m\u001b[0m\u001b[1;33m\u001b[0m\u001b[0m\n",
      "\u001b[1;31mAttributeError\u001b[0m: 'FitnessResult' object has no attribute 'model_indexes'"
     ]
    }
   ],
   "source": [
    "print_descr = False\n",
    "count_empty_models = False\n",
    "print(\"Indiv parameters:\")\n",
    "for gene_idx, gene in enumerate(indiv):\n",
    "    if print_descr:\n",
    "        print(gene_descriptors[gene_idx] + \":\\n\" + str(gene))\n",
    "    else:\n",
    "        print(gene)          \n",
    "        \n",
    "print(\"Inidiv models:\")\n",
    "fit_params = indiv.fitness\n",
    "trades = 0\n",
    "table = [[\"model number\", \"stops\", \"take\", \"bu\"]]\n",
    "for idx in range(len(fit_params.model_indexes)):\n",
    "    if not count_empty_models and fit_params.stops[idx] == 0 and \\\n",
    "       fit_params.takes[idx] == 0 and fit_params.bus[idx] == 0:\n",
    "        continue\n",
    "    trades += fit_params.stops[idx]\n",
    "    trades += fit_params.takes[idx]\n",
    "    trades += fit_params.bus[idx]\n",
    "    table.append([fit_params.model_indexes[idx], fit_params.stops[idx], fit_params.takes[idx], fit_params.bus[idx]])\n",
    "print(\"total models number: \" + str(len(table)))\n",
    "print(\"total trades number: \" + str(trades))\n",
    "#display(HTML(tabulate.tabulate(table, tablefmt='html')))"
   ]
  }
 ],
 "metadata": {
  "kernelspec": {
   "display_name": "Python 3",
   "language": "python",
   "name": "python3"
  },
  "language_info": {
   "codemirror_mode": {
    "name": "ipython",
    "version": 3
   },
   "file_extension": ".py",
   "mimetype": "text/x-python",
   "name": "python",
   "nbconvert_exporter": "python",
   "pygments_lexer": "ipython3",
   "version": "3.8.1"
  }
 },
 "nbformat": 4,
 "nbformat_minor": 2
}
