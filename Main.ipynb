{
 "cells": [
  {
   "cell_type": "code",
   "execution_count": 1,
   "metadata": {},
   "outputs": [],
   "source": [
    "import sys\n",
    "from gene import Gene, GeneChain\n",
    "from evolution import Evolution\n",
    "from loader import load_results, load_trading_params, load_nontrading_params, load_indivs\n",
    "from crosser import Cross10to100, RandomGeneCrosser\n",
    "from mutator import GausianMutator, MutRandomIndivs, RandomGeneChainMutator\n",
    "from selector import TopNSelector\n",
    "from util import print_row, print_header\n",
    "from fitness import evaluate, Evaluation\n",
    "from copy import deepcopy\n",
    "import numpy as np\n",
    "import datetime"
   ]
  },
  {
   "cell_type": "markdown",
   "metadata": {},
   "source": [
    "## Load data"
   ]
  },
  {
   "cell_type": "raw",
   "metadata": {},
   "source": [
    "spread = 0.0001"
   ]
  },
  {
   "cell_type": "code",
   "execution_count": 2,
   "metadata": {
    "scrolled": true
   },
   "outputs": [],
   "source": [
    "db_indivs = load_indivs()   # pandas object, for fitness function; db individuals have only non-trading parameters\n",
    "trading_params = load_trading_params()  # pandas object, for precomputation\n",
    "nontrading_params = load_nontrading_params()    # pandas object, for precomputation"
   ]
  },
  {
   "cell_type": "code",
   "execution_count": 3,
   "metadata": {},
   "outputs": [
    {
     "data": {
      "text/html": [
       "<div>\n",
       "<style scoped>\n",
       "    .dataframe tbody tr th:only-of-type {\n",
       "        vertical-align: middle;\n",
       "    }\n",
       "\n",
       "    .dataframe tbody tr th {\n",
       "        vertical-align: top;\n",
       "    }\n",
       "\n",
       "    .dataframe thead th {\n",
       "        text-align: right;\n",
       "    }\n",
       "</style>\n",
       "<table border=\"1\" class=\"dataframe\">\n",
       "  <thead>\n",
       "    <tr style=\"text-align: right;\">\n",
       "      <th></th>\n",
       "      <th>0</th>\n",
       "      <th>1</th>\n",
       "      <th>2</th>\n",
       "      <th>3</th>\n",
       "      <th>4</th>\n",
       "      <th>5</th>\n",
       "      <th>6</th>\n",
       "      <th>7</th>\n",
       "      <th>8</th>\n",
       "    </tr>\n",
       "  </thead>\n",
       "  <tbody>\n",
       "    <tr>\n",
       "      <th>0</th>\n",
       "      <td>3</td>\n",
       "      <td>21</td>\n",
       "      <td>5</td>\n",
       "      <td>0</td>\n",
       "      <td>1.34</td>\n",
       "      <td>0.09</td>\n",
       "      <td>0.38</td>\n",
       "      <td>0.38</td>\n",
       "      <td>0.16</td>\n",
       "    </tr>\n",
       "    <tr>\n",
       "      <th>1</th>\n",
       "      <td>4</td>\n",
       "      <td>21</td>\n",
       "      <td>5</td>\n",
       "      <td>0</td>\n",
       "      <td>1.42</td>\n",
       "      <td>0.10</td>\n",
       "      <td>0.40</td>\n",
       "      <td>0.40</td>\n",
       "      <td>0.33</td>\n",
       "    </tr>\n",
       "    <tr>\n",
       "      <th>2</th>\n",
       "      <td>5</td>\n",
       "      <td>21</td>\n",
       "      <td>5</td>\n",
       "      <td>0</td>\n",
       "      <td>1.42</td>\n",
       "      <td>0.21</td>\n",
       "      <td>0.40</td>\n",
       "      <td>0.40</td>\n",
       "      <td>0.33</td>\n",
       "    </tr>\n",
       "  </tbody>\n",
       "</table>\n",
       "</div>"
      ],
      "text/plain": [
       "   0   1  2  3     4     5     6     7     8\n",
       "0  3  21  5  0  1.34  0.09  0.38  0.38  0.16\n",
       "1  4  21  5  0  1.42  0.10  0.40  0.40  0.33\n",
       "2  5  21  5  0  1.42  0.21  0.40  0.40  0.33"
      ]
     },
     "execution_count": 3,
     "metadata": {},
     "output_type": "execute_result"
    }
   ],
   "source": [
    "db_indivs.head(3)"
   ]
  },
  {
   "cell_type": "code",
   "execution_count": 4,
   "metadata": {},
   "outputs": [
    {
     "data": {
      "text/html": [
       "<div>\n",
       "<style scoped>\n",
       "    .dataframe tbody tr th:only-of-type {\n",
       "        vertical-align: middle;\n",
       "    }\n",
       "\n",
       "    .dataframe tbody tr th {\n",
       "        vertical-align: top;\n",
       "    }\n",
       "\n",
       "    .dataframe thead th {\n",
       "        text-align: right;\n",
       "    }\n",
       "</style>\n",
       "<table border=\"1\" class=\"dataframe\">\n",
       "  <thead>\n",
       "    <tr style=\"text-align: right;\">\n",
       "      <th></th>\n",
       "      <th>TYPE</th>\n",
       "      <th>MIN</th>\n",
       "      <th>MAX</th>\n",
       "      <th>DESCRIPTION</th>\n",
       "    </tr>\n",
       "  </thead>\n",
       "  <tbody>\n",
       "    <tr>\n",
       "      <th>0</th>\n",
       "      <td>float64</td>\n",
       "      <td>-1.0</td>\n",
       "      <td>1.0</td>\n",
       "      <td>distance between order price and level</td>\n",
       "    </tr>\n",
       "    <tr>\n",
       "      <th>1</th>\n",
       "      <td>float64</td>\n",
       "      <td>0.5</td>\n",
       "      <td>2.0</td>\n",
       "      <td>stop loss</td>\n",
       "    </tr>\n",
       "    <tr>\n",
       "      <th>2</th>\n",
       "      <td>float64</td>\n",
       "      <td>0.5</td>\n",
       "      <td>2.5</td>\n",
       "      <td>stop out</td>\n",
       "    </tr>\n",
       "    <tr>\n",
       "      <th>3</th>\n",
       "      <td>float64</td>\n",
       "      <td>0.5</td>\n",
       "      <td>3.0</td>\n",
       "      <td>take profit</td>\n",
       "    </tr>\n",
       "    <tr>\n",
       "      <th>4</th>\n",
       "      <td>float64</td>\n",
       "      <td>-2.0</td>\n",
       "      <td>2.0</td>\n",
       "      <td>bu level</td>\n",
       "    </tr>\n",
       "    <tr>\n",
       "      <th>5</th>\n",
       "      <td>float64</td>\n",
       "      <td>0.5</td>\n",
       "      <td>3.0</td>\n",
       "      <td>bu condition level</td>\n",
       "    </tr>\n",
       "    <tr>\n",
       "      <th>6</th>\n",
       "      <td>float64</td>\n",
       "      <td>0.5</td>\n",
       "      <td>3.0</td>\n",
       "      <td>minimal range between orders with the same di...</td>\n",
       "    </tr>\n",
       "    <tr>\n",
       "      <th>7</th>\n",
       "      <td>int64</td>\n",
       "      <td>1.0</td>\n",
       "      <td>5.0</td>\n",
       "      <td>max stops</td>\n",
       "    </tr>\n",
       "    <tr>\n",
       "      <th>8</th>\n",
       "      <td>int64</td>\n",
       "      <td>300.0</td>\n",
       "      <td>3600.0</td>\n",
       "      <td>expiration(in minuts)</td>\n",
       "    </tr>\n",
       "    <tr>\n",
       "      <th>9</th>\n",
       "      <td>int64</td>\n",
       "      <td>0.0</td>\n",
       "      <td>1500.0</td>\n",
       "      <td>min time between orders(in minuts)</td>\n",
       "    </tr>\n",
       "  </tbody>\n",
       "</table>\n",
       "</div>"
      ],
      "text/plain": [
       "      TYPE    MIN     MAX                                        DESCRIPTION\n",
       "0  float64   -1.0     1.0             distance between order price and level\n",
       "1  float64    0.5     2.0                                          stop loss\n",
       "2  float64    0.5     2.5                                           stop out\n",
       "3  float64    0.5     3.0                                        take profit\n",
       "4  float64   -2.0     2.0                                           bu level\n",
       "5  float64    0.5     3.0                                 bu condition level\n",
       "6  float64    0.5     3.0   minimal range between orders with the same di...\n",
       "7    int64    1.0     5.0                                          max stops\n",
       "8    int64  300.0  3600.0                              expiration(in minuts)\n",
       "9    int64    0.0  1500.0                 min time between orders(in minuts)"
      ]
     },
     "execution_count": 4,
     "metadata": {},
     "output_type": "execute_result"
    }
   ],
   "source": [
    "trading_params"
   ]
  },
  {
   "cell_type": "code",
   "execution_count": 5,
   "metadata": {
    "scrolled": true
   },
   "outputs": [
    {
     "data": {
      "text/html": [
       "<div>\n",
       "<style scoped>\n",
       "    .dataframe tbody tr th:only-of-type {\n",
       "        vertical-align: middle;\n",
       "    }\n",
       "\n",
       "    .dataframe tbody tr th {\n",
       "        vertical-align: top;\n",
       "    }\n",
       "\n",
       "    .dataframe thead th {\n",
       "        text-align: right;\n",
       "    }\n",
       "</style>\n",
       "<table border=\"1\" class=\"dataframe\">\n",
       "  <thead>\n",
       "    <tr style=\"text-align: right;\">\n",
       "      <th></th>\n",
       "      <th>TYPE</th>\n",
       "      <th>MIN_RANGE</th>\n",
       "      <th>DESCRIPTION</th>\n",
       "    </tr>\n",
       "  </thead>\n",
       "  <tbody>\n",
       "    <tr>\n",
       "      <th>0</th>\n",
       "      <td>int64</td>\n",
       "      <td>4.0</td>\n",
       "      <td>bars on level after fracture</td>\n",
       "    </tr>\n",
       "    <tr>\n",
       "      <th>1</th>\n",
       "      <td>int64</td>\n",
       "      <td>10.0</td>\n",
       "      <td>bars before level behind</td>\n",
       "    </tr>\n",
       "    <tr>\n",
       "      <th>2</th>\n",
       "      <td>int64</td>\n",
       "      <td>2.0</td>\n",
       "      <td>bars between fracture and touch</td>\n",
       "    </tr>\n",
       "    <tr>\n",
       "      <th>3</th>\n",
       "      <td>int64</td>\n",
       "      <td>1.0</td>\n",
       "      <td>number of lps bigger than 0.5</td>\n",
       "    </tr>\n",
       "    <tr>\n",
       "      <th>4</th>\n",
       "      <td>float64</td>\n",
       "      <td>0.4</td>\n",
       "      <td>fracture rollback</td>\n",
       "    </tr>\n",
       "    <tr>\n",
       "      <th>5</th>\n",
       "      <td>float64</td>\n",
       "      <td>0.4</td>\n",
       "      <td>consolidation rollback</td>\n",
       "    </tr>\n",
       "    <tr>\n",
       "      <th>6</th>\n",
       "      <td>float64</td>\n",
       "      <td>0.4</td>\n",
       "      <td>max lp</td>\n",
       "    </tr>\n",
       "    <tr>\n",
       "      <th>7</th>\n",
       "      <td>float64</td>\n",
       "      <td>0.4</td>\n",
       "      <td>max lp in 3 first bars</td>\n",
       "    </tr>\n",
       "    <tr>\n",
       "      <th>8</th>\n",
       "      <td>float64</td>\n",
       "      <td>0.4</td>\n",
       "      <td>max close behind level</td>\n",
       "    </tr>\n",
       "  </tbody>\n",
       "</table>\n",
       "</div>"
      ],
      "text/plain": [
       "      TYPE  MIN_RANGE                       DESCRIPTION\n",
       "0    int64        4.0      bars on level after fracture\n",
       "1    int64       10.0          bars before level behind\n",
       "2    int64        2.0   bars between fracture and touch\n",
       "3    int64        1.0     number of lps bigger than 0.5\n",
       "4  float64        0.4                 fracture rollback\n",
       "5  float64        0.4            consolidation rollback\n",
       "6  float64        0.4                            max lp\n",
       "7  float64        0.4            max lp in 3 first bars\n",
       "8  float64        0.4            max close behind level"
      ]
     },
     "execution_count": 5,
     "metadata": {},
     "output_type": "execute_result"
    }
   ],
   "source": [
    "nontrading_params"
   ]
  },
  {
   "cell_type": "markdown",
   "metadata": {},
   "source": [
    "## Init base gene chain"
   ]
  },
  {
   "cell_type": "code",
   "execution_count": 6,
   "metadata": {
    "scrolled": true
   },
   "outputs": [],
   "source": [
    "base_gene_chain = GeneChain()\n",
    "for index, row in nontrading_params.iterrows():\n",
    "    dtype = np.dtype(row[\"TYPE\"]).type\n",
    "    is_interval = True if dtype != bool else False\n",
    "    min_range = dtype(row[\"MIN_RANGE\"])\n",
    "    max_value = dtype(max(db_indivs[index]))\n",
    "    min_value = dtype(min(db_indivs[index]))\n",
    "\n",
    "    base_gene_chain.add(Gene(dtype=dtype, is_interval=is_interval, min_radius=min_range/2,\n",
    "                             min_value=min_value, max_value=max_value, ordering=-1))\n",
    "\n",
    "for index, row in trading_params.iterrows():\n",
    "    is_interval = False\n",
    "    dtype = np.dtype(row[\"TYPE\"]).type\n",
    "    min_value = dtype(row[\"MIN\"])\n",
    "    max_value = dtype(row[\"MAX\"])\n",
    "    base_gene_chain.add(Gene(dtype=dtype, is_interval=is_interval, tags=[\"trading\"],\n",
    "                             min_value=min_value, max_value=max_value, ordering=-1))\n",
    "\n",
    "#for gene in base_gene_chain:\n",
    "#    print(gene)"
   ]
  },
  {
   "cell_type": "markdown",
   "metadata": {},
   "source": [
    "## Init genetic algorithm"
   ]
  },
  {
   "cell_type": "code",
   "execution_count": 7,
   "metadata": {},
   "outputs": [],
   "source": [
    "ev = Evolution(\n",
    "    MAX_GENS=100,\n",
    "    evaluation=Evaluation(spread=0.0001),\n",
    "    base_indiv=base_gene_chain,\n",
    "    crosser=RandomGeneCrosser(),\n",
    "    selector=TopNSelector(),\n",
    "    verbose=True)"
   ]
  },
  {
   "cell_type": "code",
   "execution_count": 8,
   "metadata": {},
   "outputs": [],
   "source": [
    "#ev.init_random_indivs(size=100, min_models=50)\n",
    "#ev.dump_indivs(\"population.pkl\")\n",
    "ev.load_indivs(\"population.pkl\", 10)"
   ]
  },
  {
   "cell_type": "markdown",
   "metadata": {},
   "source": [
    "## Run "
   ]
  },
  {
   "cell_type": "code",
   "execution_count": 9,
   "metadata": {},
   "outputs": [
    {
     "name": "stdout",
     "output_type": "stream",
     "text": [
      "Generation: 100 | Best fitness: 317.0 | Models: 744 | Time: avg per gen = 142s. total = 12942s.)                                                                                                    "
     ]
    }
   ],
   "source": [
    "ev.run()"
   ]
  },
  {
   "cell_type": "code",
   "execution_count": 11,
   "metadata": {},
   "outputs": [],
   "source": [
    "ev.dump_indivs(\"best.pkl\")"
   ]
  },
  {
   "cell_type": "code",
   "execution_count": 13,
   "metadata": {
    "scrolled": false
   },
   "outputs": [
    {
     "name": "stdout",
     "output_type": "stream",
     "text": [
      "fitness: 317.0 models: 744 max account value: 317.5 max drawdown: 9.7\n",
      "fitness: 312.4 models: 748 max account value: 318.2 max drawdown: 7.7\n",
      "fitness: 312.4 models: 748 max account value: 318.2 max drawdown: 7.7\n",
      "fitness: 312.4 models: 748 max account value: 318.2 max drawdown: 7.7\n",
      "fitness: 312.4 models: 748 max account value: 318.2 max drawdown: 7.7\n",
      "fitness: 312.4 models: 748 max account value: 318.2 max drawdown: 7.7\n",
      "fitness: 312.4 models: 748 max account value: 318.2 max drawdown: 7.7\n",
      "fitness: 312.4 models: 748 max account value: 318.2 max drawdown: 7.7\n",
      "fitness: 312.4 models: 748 max account value: 318.2 max drawdown: 7.7\n",
      "fitness: 312.4 models: 748 max account value: 318.2 max drawdown: 7.7\n"
     ]
    }
   ],
   "source": [
    "ev.print_generation()"
   ]
  },
  {
   "cell_type": "code",
   "execution_count": null,
   "metadata": {},
   "outputs": [],
   "source": []
  },
  {
   "cell_type": "code",
   "execution_count": null,
   "metadata": {},
   "outputs": [],
   "source": []
  }
 ],
 "metadata": {
  "kernelspec": {
   "display_name": "Python 3",
   "language": "python",
   "name": "python3"
  },
  "language_info": {
   "codemirror_mode": {
    "name": "ipython",
    "version": 3
   },
   "file_extension": ".py",
   "mimetype": "text/x-python",
   "name": "python",
   "nbconvert_exporter": "python",
   "pygments_lexer": "ipython3",
   "version": "3.6.8"
  }
 },
 "nbformat": 4,
 "nbformat_minor": 2
}
