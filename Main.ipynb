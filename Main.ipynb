{
 "cells": [
  {
   "cell_type": "code",
   "execution_count": 1,
   "metadata": {},
   "outputs": [],
   "source": [
    "from gene import Gene, GeneChain\n",
    "from genetic import Genetic\n",
    "from selector import TopNSelector\n",
    "from util import print_row, print_header\n",
    "from loader import load_data, load_params\n",
    "from crosser import RandomGeneCrosser\n",
    "import numpy as np"
   ]
  },
  {
   "cell_type": "markdown",
   "metadata": {},
   "source": [
    "## Load data"
   ]
  },
  {
   "cell_type": "code",
   "execution_count": 2,
   "metadata": {},
   "outputs": [
    {
     "data": {
      "text/html": [
       "<div>\n",
       "<style scoped>\n",
       "    .dataframe tbody tr th:only-of-type {\n",
       "        vertical-align: middle;\n",
       "    }\n",
       "\n",
       "    .dataframe tbody tr th {\n",
       "        vertical-align: top;\n",
       "    }\n",
       "\n",
       "    .dataframe thead th {\n",
       "        text-align: right;\n",
       "    }\n",
       "</style>\n",
       "<table border=\"1\" class=\"dataframe\">\n",
       "  <thead>\n",
       "    <tr style=\"text-align: right;\">\n",
       "      <th></th>\n",
       "      <th>COLUMN1</th>\n",
       "      <th>COLUMN2</th>\n",
       "      <th>COLUMN3</th>\n",
       "      <th>COLUMN4</th>\n",
       "      <th>COLUMN5</th>\n",
       "      <th>COLUMN6</th>\n",
       "      <th>COLUMN7</th>\n",
       "      <th>COLUMN8</th>\n",
       "      <th>COLUMN9</th>\n",
       "      <th>COLUMN10</th>\n",
       "    </tr>\n",
       "  </thead>\n",
       "  <tbody>\n",
       "    <tr>\n",
       "      <th>0</th>\n",
       "      <td>3</td>\n",
       "      <td>21</td>\n",
       "      <td>5</td>\n",
       "      <td>0</td>\n",
       "      <td>1.34</td>\n",
       "      <td>0.09</td>\n",
       "      <td>0.38</td>\n",
       "      <td>0.38</td>\n",
       "      <td>0.16</td>\n",
       "      <td>14.333333</td>\n",
       "    </tr>\n",
       "    <tr>\n",
       "      <th>1</th>\n",
       "      <td>4</td>\n",
       "      <td>21</td>\n",
       "      <td>5</td>\n",
       "      <td>0</td>\n",
       "      <td>1.42</td>\n",
       "      <td>0.10</td>\n",
       "      <td>0.40</td>\n",
       "      <td>0.40</td>\n",
       "      <td>0.33</td>\n",
       "      <td>14.333333</td>\n",
       "    </tr>\n",
       "    <tr>\n",
       "      <th>2</th>\n",
       "      <td>5</td>\n",
       "      <td>21</td>\n",
       "      <td>5</td>\n",
       "      <td>0</td>\n",
       "      <td>1.42</td>\n",
       "      <td>0.21</td>\n",
       "      <td>0.40</td>\n",
       "      <td>0.40</td>\n",
       "      <td>0.33</td>\n",
       "      <td>6.615385</td>\n",
       "    </tr>\n",
       "    <tr>\n",
       "      <th>3</th>\n",
       "      <td>5</td>\n",
       "      <td>21</td>\n",
       "      <td>5</td>\n",
       "      <td>0</td>\n",
       "      <td>1.42</td>\n",
       "      <td>0.69</td>\n",
       "      <td>0.40</td>\n",
       "      <td>0.40</td>\n",
       "      <td>0.33</td>\n",
       "      <td>2.047619</td>\n",
       "    </tr>\n",
       "    <tr>\n",
       "      <th>4</th>\n",
       "      <td>5</td>\n",
       "      <td>21</td>\n",
       "      <td>5</td>\n",
       "      <td>0</td>\n",
       "      <td>1.43</td>\n",
       "      <td>0.70</td>\n",
       "      <td>0.40</td>\n",
       "      <td>0.40</td>\n",
       "      <td>0.33</td>\n",
       "      <td>2.047619</td>\n",
       "    </tr>\n",
       "  </tbody>\n",
       "</table>\n",
       "</div>"
      ],
      "text/plain": [
       "   COLUMN1  COLUMN2  COLUMN3  COLUMN4  COLUMN5  COLUMN6  COLUMN7  COLUMN8  \\\n",
       "0        3       21        5        0     1.34     0.09     0.38     0.38   \n",
       "1        4       21        5        0     1.42     0.10     0.40     0.40   \n",
       "2        5       21        5        0     1.42     0.21     0.40     0.40   \n",
       "3        5       21        5        0     1.42     0.69     0.40     0.40   \n",
       "4        5       21        5        0     1.43     0.70     0.40     0.40   \n",
       "\n",
       "   COLUMN9   COLUMN10  \n",
       "0     0.16  14.333333  \n",
       "1     0.33  14.333333  \n",
       "2     0.33   6.615385  \n",
       "3     0.33   2.047619  \n",
       "4     0.33   2.047619  "
      ]
     },
     "execution_count": 2,
     "metadata": {},
     "output_type": "execute_result"
    }
   ],
   "source": [
    "data = load_data()\n",
    "data.head(5)"
   ]
  },
  {
   "cell_type": "code",
   "execution_count": 3,
   "metadata": {},
   "outputs": [
    {
     "data": {
      "text/html": [
       "<div>\n",
       "<style scoped>\n",
       "    .dataframe tbody tr th:only-of-type {\n",
       "        vertical-align: middle;\n",
       "    }\n",
       "\n",
       "    .dataframe tbody tr th {\n",
       "        vertical-align: top;\n",
       "    }\n",
       "\n",
       "    .dataframe thead th {\n",
       "        text-align: right;\n",
       "    }\n",
       "</style>\n",
       "<table border=\"1\" class=\"dataframe\">\n",
       "  <thead>\n",
       "    <tr style=\"text-align: right;\">\n",
       "      <th></th>\n",
       "      <th>TYPE</th>\n",
       "      <th>MIN</th>\n",
       "      <th>MAX</th>\n",
       "      <th>DESCRIPTION</th>\n",
       "    </tr>\n",
       "  </thead>\n",
       "  <tbody>\n",
       "    <tr>\n",
       "      <th>0</th>\n",
       "      <td>float64</td>\n",
       "      <td>-1.0</td>\n",
       "      <td>1.0</td>\n",
       "      <td>distance between order price and level</td>\n",
       "    </tr>\n",
       "    <tr>\n",
       "      <th>1</th>\n",
       "      <td>float64</td>\n",
       "      <td>0.5</td>\n",
       "      <td>2.0</td>\n",
       "      <td>stop loss</td>\n",
       "    </tr>\n",
       "    <tr>\n",
       "      <th>2</th>\n",
       "      <td>float64</td>\n",
       "      <td>0.5</td>\n",
       "      <td>2.5</td>\n",
       "      <td>stop out</td>\n",
       "    </tr>\n",
       "    <tr>\n",
       "      <th>3</th>\n",
       "      <td>float64</td>\n",
       "      <td>0.5</td>\n",
       "      <td>3.0</td>\n",
       "      <td>take profit</td>\n",
       "    </tr>\n",
       "    <tr>\n",
       "      <th>4</th>\n",
       "      <td>float64</td>\n",
       "      <td>-2.0</td>\n",
       "      <td>2.0</td>\n",
       "      <td>bu level</td>\n",
       "    </tr>\n",
       "    <tr>\n",
       "      <th>5</th>\n",
       "      <td>float64</td>\n",
       "      <td>0.5</td>\n",
       "      <td>3.0</td>\n",
       "      <td>bu condition level</td>\n",
       "    </tr>\n",
       "    <tr>\n",
       "      <th>6</th>\n",
       "      <td>int64</td>\n",
       "      <td>1.0</td>\n",
       "      <td>5.0</td>\n",
       "      <td>max stops</td>\n",
       "    </tr>\n",
       "    <tr>\n",
       "      <th>7</th>\n",
       "      <td>int64</td>\n",
       "      <td>300.0</td>\n",
       "      <td>3600.0</td>\n",
       "      <td>expiration(in minuts)</td>\n",
       "    </tr>\n",
       "    <tr>\n",
       "      <th>8</th>\n",
       "      <td>int64</td>\n",
       "      <td>0.0</td>\n",
       "      <td>1500.0</td>\n",
       "      <td>min time between orders(in minuts)</td>\n",
       "    </tr>\n",
       "  </tbody>\n",
       "</table>\n",
       "</div>"
      ],
      "text/plain": [
       "      TYPE    MIN     MAX                              DESCRIPTION\n",
       "0  float64   -1.0     1.0   distance between order price and level\n",
       "1  float64    0.5     2.0                                stop loss\n",
       "2  float64    0.5     2.5                                 stop out\n",
       "3  float64    0.5     3.0                              take profit\n",
       "4  float64   -2.0     2.0                                 bu level\n",
       "5  float64    0.5     3.0                       bu condition level\n",
       "6    int64    1.0     5.0                                max stops\n",
       "7    int64  300.0  3600.0                    expiration(in minuts)\n",
       "8    int64    0.0  1500.0       min time between orders(in minuts)"
      ]
     },
     "execution_count": 3,
     "metadata": {},
     "output_type": "execute_result"
    }
   ],
   "source": [
    "params = load_params()\n",
    "params"
   ]
  },
  {
   "cell_type": "markdown",
   "metadata": {},
   "source": [
    "## Init base gene chain"
   ]
  },
  {
   "cell_type": "code",
   "execution_count": 4,
   "metadata": {},
   "outputs": [
    {
     "name": "stdout",
     "output_type": "stream",
     "text": [
      "|          |      Type|       Min|       Max|  Interval|\n",
      "+----------+----------+----------+----------+----------|\n",
      "|   COLUMN1|     int64|         3|        15|      True|\n",
      "|   COLUMN2|     int64|         2|        43|      True|\n",
      "|   COLUMN3|     int64|         2|        12|      True|\n",
      "|   COLUMN4|     int64|         0|         3|      True|\n",
      "|   COLUMN5|   float64|       0.7|       2.1|      True|\n",
      "|   COLUMN6|   float64|      0.02|       0.8|      True|\n",
      "|   COLUMN7|   float64|      0.01|       0.6|      True|\n",
      "|   COLUMN8|   float64|      0.01|       0.6|      True|\n",
      "|   COLUMN9|   float64|       0.0|       0.6|      True|\n",
      "|  COLUMN10|   float64|       1.4|      59.0|      True|\n",
      "|          |          |          |          |          |\n",
      "+----------+----------+----------+----------+----------|\n",
      "|         1|   float64|      -1.0|       1.0|     False|\n",
      "|         2|   float64|       0.5|       2.0|     False|\n",
      "|         3|   float64|       0.5|       2.5|     False|\n",
      "|         4|   float64|       0.5|       3.0|     False|\n",
      "|         5|   float64|      -2.0|       2.0|     False|\n",
      "|         6|   float64|       0.5|       3.0|     False|\n",
      "|         7|     int64|         1|         5|     False|\n",
      "|         8|     int64|       300|      3600|     False|\n",
      "|         9|     int64|         0|      1500|     False|\n"
     ]
    }
   ],
   "source": [
    "print_header((\"\", \"Type\", \"Min\", \"Max\", \"Interval\"))\n",
    "base_gene_chain = GeneChain()\n",
    "\n",
    "for column in data:\n",
    "    dtype = data[column].dtype\n",
    "    min_value = round(min(data[column]), 9)\n",
    "    max_value = round(max(data[column]), 9)\n",
    "    base_gene_chain.add(Gene(dtype.type, max_value, min_value, -1, True))\n",
    "    \n",
    "    print_row((column, dtype.name, min_value, max_value, str(True)))\n",
    "\n",
    "print_header([\"\"]*5)\n",
    "for index, row in params.iterrows():\n",
    "    dtype = np.dtype(row[\"TYPE\"])\n",
    "    min_value = dtype.type(row[\"MIN\"])\n",
    "    max_value = dtype.type(row[\"MAX\"])\n",
    "    base_gene_chain.add(Gene(dtype.type, max_value, min_value, -1))\n",
    "    \n",
    "    print_row((index+1, dtype.name, min_value, max_value, str(False)))"
   ]
  },
  {
   "cell_type": "markdown",
   "metadata": {},
   "source": [
    "### Init genetic algorithm"
   ]
  },
  {
   "cell_type": "code",
   "execution_count": 5,
   "metadata": {},
   "outputs": [],
   "source": [
    "genetic = Genetic(\n",
    "    max_generations=20,\n",
    "    max_individuals=10,\n",
    "    base_gene_chain=base_gene_chain,\n",
    "    crosser=RandomGeneCrosser(),\n",
    "    selector=TopNSelector(3))"
   ]
  },
  {
   "cell_type": "markdown",
   "metadata": {},
   "source": [
    "## Run "
   ]
  },
  {
   "cell_type": "code",
   "execution_count": 6,
   "metadata": {},
   "outputs": [
    {
     "name": "stdout",
     "output_type": "stream",
     "text": [
      "Generation: 1 | Fitness: 6.0 (1s.)\n",
      "Generation: 2 | Fitness: 13.0 (1s.)\n",
      "Generation: 3 | Fitness: 19.0 (1s.)\n",
      "Generation: 4 | Fitness: 20.0 (1s.)\n",
      "Generation: 5 | Fitness: 22.0 (1s.)\n",
      "Generation: 6 | Fitness: 27.0 (1s.)\n",
      "Generation: 7 | Fitness: 30.0 (1s.)\n",
      "Generation: 8 | Fitness: 34.0 (1s.)\n",
      "Generation: 9 | Fitness: 39.0 (1s.)\n",
      "Generation: 10 | Fitness: 41.0 (1s.)\n",
      "Generation: 11 | Fitness: 46.0 (1s.)\n",
      "Generation: 12 | Fitness: 52.0 (1s.)\n",
      "Generation: 13 | Fitness: 56.0 (1s.)\n",
      "Generation: 14 | Fitness: 57.0 (1s.)\n",
      "Generation: 15 | Fitness: 61.0 (2s.)\n",
      "Generation: 16 | Fitness: 64.0 (2s.)\n",
      "Generation: 17 | Fitness: 64.0 (2s.)\n",
      "Generation: 18 | Fitness: 69.0 (2s.)\n",
      "Generation: 19 | Fitness: 78.0 (3s.)\n",
      "Generation: 20 | Fitness: 88.0 (3s.)\n"
     ]
    }
   ],
   "source": [
    "genetic.run()"
   ]
  },
  {
   "cell_type": "code",
   "execution_count": 7,
   "metadata": {},
   "outputs": [
    {
     "name": "stdout",
     "output_type": "stream",
     "text": [
      "0 [3, 11]\n",
      "1 [2, 34]\n",
      "2 [5, 9]\n",
      "3 [0, 1]\n",
      "4 [1.4728005841268543, 2.1]\n",
      "5 [0.2441280068661909, 0.8]\n",
      "6 [0.026602290358369307, 0.5733977096416307]\n",
      "7 [0.01405408373004785, 0.5859459162699521]\n",
      "8 [0.0, 0.30027245736974084]\n",
      "9 [1.4, 16.07055779335911]\n",
      "10 -0.7\n",
      "11 2.0\n",
      "12 1.1\n",
      "13 2.3\n",
      "14 1.7\n",
      "15 2.0\n",
      "16 5\n",
      "17 389\n",
      "18 96\n"
     ]
    }
   ],
   "source": [
    "for i, gene in enumerate(genetic.best()):\n",
    "    print(i, gene)"
   ]
  },
  {
   "cell_type": "code",
   "execution_count": null,
   "metadata": {},
   "outputs": [],
   "source": []
  },
  {
   "cell_type": "code",
   "execution_count": null,
   "metadata": {},
   "outputs": [],
   "source": []
  }
 ],
 "metadata": {
  "kernelspec": {
   "display_name": "Python 3",
   "language": "python",
   "name": "python3"
  },
  "language_info": {
   "codemirror_mode": {
    "name": "ipython",
    "version": 3
   },
   "file_extension": ".py",
   "mimetype": "text/x-python",
   "name": "python",
   "nbconvert_exporter": "python",
   "pygments_lexer": "ipython3",
   "version": "3.6.8"
  }
 },
 "nbformat": 4,
 "nbformat_minor": 2
}
