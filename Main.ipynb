{
 "cells": [
  {
   "cell_type": "code",
   "execution_count": 1,
   "metadata": {
    "scrolled": true
   },
   "outputs": [],
   "source": [
    "%load_ext autoreload\n",
    "%autoreload 2"
   ]
  },
  {
   "cell_type": "code",
   "execution_count": 2,
   "metadata": {},
   "outputs": [],
   "source": [
    "import sys\n",
    "import numpy as np\n",
    "import pickle\n",
    "import datetime\n",
    "from IPython.display import HTML, display\n",
    "import tabulate\n",
    "from copy import deepcopy\n",
    "from gene import Gene, GeneChain\n",
    "from evolution import Evolution\n",
    "from loader import load_results, load_trading_params, load_nontrading_params, load_indivs\n",
    "from crosser import Cross10to100, RandomGeneCrosser\n",
    "from mutator import GausianMutator, MutRandomIndivs, RandomGeneChainMutator\n",
    "from selector import TopNSelector\n",
    "from util import plot\n",
    "from fitness import Fitness"
   ]
  },
  {
   "cell_type": "markdown",
   "metadata": {},
   "source": [
    "## Load data"
   ]
  },
  {
   "cell_type": "code",
   "execution_count": 3,
   "metadata": {
    "scrolled": true
   },
   "outputs": [],
   "source": [
    "db_indivs = load_indivs()   # pandas object, for fitness function; db individuals have only non-trading parameters\n",
    "trading_params = load_trading_params()  # pandas object, for precomputation\n",
    "nontrading_params = load_nontrading_params()    # pandas object, for precomputation"
   ]
  },
  {
   "cell_type": "markdown",
   "metadata": {},
   "source": [
    "## Init base gene chain"
   ]
  },
  {
   "cell_type": "code",
   "execution_count": 4,
   "metadata": {
    "scrolled": true
   },
   "outputs": [],
   "source": [
    "base_gene_chain = GeneChain()\n",
    "gene_descriptors = []\n",
    "for index, row in nontrading_params.iterrows():\n",
    "    dtype = np.dtype(row[\"TYPE\"]).type\n",
    "    is_interval = True if dtype != bool else False\n",
    "    min_range = dtype(row[\"MIN_RANGE\"])\n",
    "    max_value = dtype(max(db_indivs[index]))\n",
    "    min_value = dtype(min(db_indivs[index]))        \n",
    "    gene_descriptors.append(str(row[\"DESCRIPTION\"]))\n",
    "    base_gene_chain.add(Gene(dtype=dtype, is_interval=is_interval, min_radius=min_range/2,\n",
    "                             min_value=min_value, max_value=max_value, ordering=-1))    \n",
    "\n",
    "for index, row in trading_params.iterrows():\n",
    "    is_interval = False\n",
    "    dtype = np.dtype(row[\"TYPE\"]).type\n",
    "    min_value = dtype(row[\"MIN\"])\n",
    "    max_value = dtype(row[\"MAX\"])\n",
    "    gene_descriptors.append(str(row[\"DESCRIPTION\"]))\n",
    "    base_gene_chain.add(Gene(dtype=dtype, is_interval=is_interval, tags=[\"trading\"],\n",
    "                             min_value=min_value, max_value=max_value, ordering=-1))    "
   ]
  },
  {
   "cell_type": "markdown",
   "metadata": {},
   "source": [
    "## Init genetic algorithm"
   ]
  },
  {
   "cell_type": "code",
   "execution_count": 5,
   "metadata": {},
   "outputs": [],
   "source": [
    "ev = Evolution(\n",
    "    MAX_GENS=30,\n",
    "    fitness=Fitness(),\n",
    "    base_indiv=base_gene_chain,\n",
    "    crosser=RandomGeneCrosser(),\n",
    "    selector=TopNSelector(),\n",
    "    verbose=True)"
   ]
  },
  {
   "cell_type": "markdown",
   "metadata": {},
   "source": [
    "## Create start population"
   ]
  },
  {
   "cell_type": "code",
   "execution_count": 23,
   "metadata": {
    "scrolled": true
   },
   "outputs": [
    {
     "name": "stdout",
     "output_type": "stream",
     "text": [
      "Found 10 indivs with 2000 tries (3s.)                                                                                                    "
     ]
    }
   ],
   "source": [
    "ev.init_random_indivs(size=10, min_models=100)\n",
    "ev.dump(\"indivs.pkl\")\n",
    "#ev.load_indivs(\"indivs.pkl\")"
   ]
  },
  {
   "cell_type": "markdown",
   "metadata": {},
   "source": [
    "## Run "
   ]
  },
  {
   "cell_type": "code",
   "execution_count": null,
   "metadata": {
    "scrolled": false
   },
   "outputs": [],
   "source": [
    "ev.run(dump=\"best.pkl\")"
   ]
  },
  {
   "cell_type": "code",
   "execution_count": null,
   "metadata": {
    "scrolled": true
   },
   "outputs": [],
   "source": [
    "plot([ res[\"fitness\"].fitness for res in ev._run_results ], \"fitness\")"
   ]
  },
  {
   "cell_type": "code",
   "execution_count": null,
   "metadata": {},
   "outputs": [],
   "source": [
    "ev.print_generation()"
   ]
  },
  {
   "cell_type": "markdown",
   "metadata": {},
   "source": [
    "## Working with results"
   ]
  },
  {
   "cell_type": "code",
   "execution_count": null,
   "metadata": {
    "scrolled": false
   },
   "outputs": [],
   "source": [
    "fitness = FitnessTest()"
   ]
  },
  {
   "cell_type": "code",
   "execution_count": null,
   "metadata": {
    "scrolled": false
   },
   "outputs": [],
   "source": [
    "with open(\"indivs/best1.pkl\", 'rb') as file:\n",
    "    indivs = pickle.load(file)\n",
    "indiv = indivs[0]\n",
    "indiv.fitness = None\n",
    "fitness.calc([indiv], ext_info=True)\n",
    "\n",
    "print(indiv.fitness)\n",
    "plot(indiv.fitness.fitness_list)"
   ]
  },
  {
   "cell_type": "code",
   "execution_count": null,
   "metadata": {
    "scrolled": true
   },
   "outputs": [],
   "source": [
    "compare_trading_reports(fitness, indiv.fitness)"
   ]
  },
  {
   "cell_type": "code",
   "execution_count": null,
   "metadata": {
    "scrolled": false
   },
   "outputs": [],
   "source": [
    "table = [[\"#\", \"Line\", \"Time\", \"Type\", \"Order\", \"Price\", \"S/L\", \"T/P\"]]\n",
    "table.extend(indiv.fitness.trade_history)\n",
    "display(HTML(tabulate.tabulate(table[:100], tablefmt='html')))"
   ]
  },
  {
   "cell_type": "code",
   "execution_count": null,
   "metadata": {
    "scrolled": true
   },
   "outputs": [],
   "source": [
    "print_descr = False\n",
    "count_empty_models = False\n",
    "print(\"Indiv parameters:\")\n",
    "for gene_idx, gene in enumerate(indiv):\n",
    "    if print_descr:\n",
    "        print(gene_descriptors[gene_idx] + \":\\n\" + str(gene))\n",
    "    else:\n",
    "        print(gene)          \n",
    "        \n",
    "print(\"Inidiv models:\")\n",
    "fit_params = indiv.fitness\n",
    "trades = 0\n",
    "table = [[\"model number\", \"stops\", \"take\", \"bu\"]]\n",
    "for idx in range(len(fit_params.model_indexes)):\n",
    "    if not count_empty_models and fit_params.stops[idx] == 0 and \\\n",
    "       fit_params.takes[idx] == 0 and fit_params.bus[idx] == 0:\n",
    "        continue\n",
    "    trades += fit_params.stops[idx]\n",
    "    trades += fit_params.takes[idx]\n",
    "    trades += fit_params.bus[idx]\n",
    "    table.append([fit_params.model_indexes[idx], fit_params.stops[idx], fit_params.takes[idx], fit_params.bus[idx]])\n",
    "print(\"total models number: \" + str(len(table)))\n",
    "print(\"total trades number: \" + str(trades))\n",
    "#display(HTML(tabulate.tabulate(table, tablefmt='html')))"
   ]
  }
 ],
 "metadata": {
  "kernelspec": {
   "display_name": "Python 3",
   "language": "python",
   "name": "python3"
  },
  "language_info": {
   "codemirror_mode": {
    "name": "ipython",
    "version": 3
   },
   "file_extension": ".py",
   "mimetype": "text/x-python",
   "name": "python",
   "nbconvert_exporter": "python",
   "pygments_lexer": "ipython3",
   "version": "3.7.6"
  }
 },
 "nbformat": 4,
 "nbformat_minor": 2
}
