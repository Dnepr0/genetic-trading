{
 "cells": [
  {
   "cell_type": "code",
   "execution_count": 1,
   "metadata": {},
   "outputs": [],
   "source": [
    "import sys\n",
    "import numpy as np\n",
    "import datetime\n",
    "from copy import deepcopy\n",
    "from gene import Gene, GeneChain\n",
    "from evolution import Evolution\n",
    "from loader import load_results, load_trading_params, load_nontrading_params, load_indivs\n",
    "from crosser import Cross10to100, RandomGeneCrosser\n",
    "from mutator import GausianMutator, MutRandomIndivs, RandomGeneChainMutator\n",
    "from selector import TopNSelector\n",
    "from util import plot\n",
    "from fitness import Fitness"
   ]
  },
  {
   "cell_type": "markdown",
   "metadata": {},
   "source": [
    "## Load data"
   ]
  },
  {
   "cell_type": "code",
   "execution_count": 2,
   "metadata": {
    "scrolled": true
   },
   "outputs": [],
   "source": [
    "db_indivs = load_indivs()   # pandas object, for fitness function; db individuals have only non-trading parameters\n",
    "trading_params = load_trading_params()  # pandas object, for precomputation\n",
    "nontrading_params = load_nontrading_params()    # pandas object, for precomputation"
   ]
  },
  {
   "cell_type": "markdown",
   "metadata": {},
   "source": [
    "## Init base gene chain"
   ]
  },
  {
   "cell_type": "code",
   "execution_count": 3,
   "metadata": {
    "scrolled": true
   },
   "outputs": [],
   "source": [
    "base_gene_chain = GeneChain()\n",
    "for index, row in nontrading_params.iterrows():\n",
    "    dtype = np.dtype(row[\"TYPE\"]).type\n",
    "    is_interval = True if dtype != bool else False\n",
    "    min_range = dtype(row[\"MIN_RANGE\"])\n",
    "    max_value = dtype(max(db_indivs[index]))\n",
    "    min_value = dtype(min(db_indivs[index]))\n",
    "\n",
    "    base_gene_chain.add(Gene(dtype=dtype, is_interval=is_interval, min_radius=min_range/2,\n",
    "                             min_value=min_value, max_value=max_value, ordering=-1))\n",
    "\n",
    "for index, row in trading_params.iterrows():\n",
    "    is_interval = False\n",
    "    dtype = np.dtype(row[\"TYPE\"]).type\n",
    "    min_value = dtype(row[\"MIN\"])\n",
    "    max_value = dtype(row[\"MAX\"])\n",
    "    base_gene_chain.add(Gene(dtype=dtype, is_interval=is_interval, tags=[\"trading\"],\n",
    "                             min_value=min_value, max_value=max_value, ordering=-1))"
   ]
  },
  {
   "cell_type": "markdown",
   "metadata": {},
   "source": [
    "## Init genetic algorithm"
   ]
  },
  {
   "cell_type": "code",
   "execution_count": 4,
   "metadata": {},
   "outputs": [],
   "source": [
    "ev = Evolution(\n",
    "    MAX_GENS=10,\n",
    "    fitness=Fitness(spread=0.0001),\n",
    "    base_indiv=base_gene_chain,\n",
    "    crosser=RandomGeneCrosser(),\n",
    "    selector=TopNSelector(),\n",
    "    verbose=True)"
   ]
  },
  {
   "cell_type": "code",
   "execution_count": 5,
   "metadata": {},
   "outputs": [],
   "source": [
    "#ev.init_random_indivs(size=1, min_models=100)\n",
    "#ev.dump(\"population.pkl\")\n",
    "ev.load_indivs(\"population.pkl\")"
   ]
  },
  {
   "cell_type": "markdown",
   "metadata": {},
   "source": [
    "## Run "
   ]
  },
  {
   "cell_type": "code",
   "execution_count": 6,
   "metadata": {},
   "outputs": [
    {
     "name": "stdout",
     "output_type": "stream",
     "text": [
      "Generation: 10 | Best fitness: 15.0 | Models: 11 | Time: avg per gen = 10s. total = 96s.                                                                                                    "
     ]
    }
   ],
   "source": [
    "ev.run(dump=\"best.pkl\")"
   ]
  },
  {
   "cell_type": "code",
   "execution_count": 7,
   "metadata": {},
   "outputs": [
    {
     "data": {
      "image/png": "[encoded data removed]",
      "text/plain": [
       "<Figure size 1152x288 with 1 Axes>"
      ]
     },
     "metadata": {},
     "output_type": "display_data"
    }
   ],
   "source": [
    "plot([ res[\"fitness\"].score for res in ev._run_results ], \"fitness\")"
   ]
  },
  {
   "cell_type": "code",
   "execution_count": 8,
   "metadata": {},
   "outputs": [
    {
     "name": "stdout",
     "output_type": "stream",
     "text": [
      "fitness: 15.0 models: 11 max account value: 15.8 max drawdown: 0.8\n",
      "fitness: 13.3 models: 9 max account value: 13.9 max drawdown: 0.6\n",
      "fitness: 13.3 models: 9 max account value: 13.9 max drawdown: 0.6\n",
      "fitness: 13.3 models: 9 max account value: 13.9 max drawdown: 0.6\n",
      "fitness: 13.3 models: 9 max account value: 13.9 max drawdown: 0.6\n",
      "fitness: 13.3 models: 9 max account value: 13.9 max drawdown: 0.6\n",
      "fitness: 13.3 models: 9 max account value: 13.9 max drawdown: 0.6\n",
      "fitness: 13.3 models: 9 max account value: 13.3 max drawdown: 0.6\n",
      "fitness: 13.3 models: 9 max account value: 13.3 max drawdown: 0.6\n",
      "fitness: 13.3 models: 9 max account value: 13.3 max drawdown: 0.6\n"
     ]
    }
   ],
   "source": [
    "ev.print_generation()"
   ]
  }
 ],
 "metadata": {
  "kernelspec": {
   "display_name": "Python 3",
   "language": "python",
   "name": "python3"
  },
  "language_info": {
   "codemirror_mode": {
    "name": "ipython",
    "version": 3
   },
   "file_extension": ".py",
   "mimetype": "text/x-python",
   "name": "python",
   "nbconvert_exporter": "python",
   "pygments_lexer": "ipython3",
   "version": "3.7.4"
  }
 },
 "nbformat": 4,
 "nbformat_minor": 2
}
