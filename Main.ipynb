{
 "cells": [
  {
   "cell_type": "code",
   "execution_count": 2,
   "metadata": {
    "scrolled": true
   },
   "outputs": [],
   "source": [
    "%load_ext autoreload\n",
    "%autoreload 2"
   ]
  },
  {
   "cell_type": "code",
   "execution_count": 3,
   "metadata": {},
   "outputs": [],
   "source": [
    "import sys\n",
    "import numpy as np\n",
    "import pickle\n",
    "import datetime\n",
    "from IPython.display import HTML, display\n",
    "import tabulate\n",
    "from copy import deepcopy\n",
    "from gene import Gene, GeneChain\n",
    "from evolution import Evolution\n",
    "from loader import load_results, load_trading_params, load_nontrading_params, load_indivs\n",
    "from crosser import Cross10to100, RandomGeneCrosser\n",
    "from mutator import GausianMutator, MutRandomIndivs, RandomGeneChainMutator\n",
    "from selector import TopNSelector\n",
    "from util import plot\n",
    "from fitness import Fitness\n",
    "from fitness_test import FitnessTest\n",
    "from analizer import compare_trading_reports"
   ]
  },
  {
   "cell_type": "markdown",
   "metadata": {},
   "source": [
    "## Load data"
   ]
  },
  {
   "cell_type": "code",
   "execution_count": 4,
   "metadata": {
    "scrolled": true
   },
   "outputs": [],
   "source": [
    "db_indivs = load_indivs()   # pandas object, for fitness function; db individuals have only non-trading parameters\n",
    "trading_params = load_trading_params()  # pandas object, for precomputation\n",
    "nontrading_params = load_nontrading_params()    # pandas object, for precomputation"
   ]
  },
  {
   "cell_type": "markdown",
   "metadata": {},
   "source": [
    "## Init base gene chain"
   ]
  },
  {
   "cell_type": "code",
   "execution_count": 5,
   "metadata": {
    "scrolled": true
   },
   "outputs": [],
   "source": [
    "base_gene_chain = GeneChain()\n",
    "gene_descriptors = []\n",
    "for index, row in nontrading_params.iterrows():\n",
    "    dtype = np.dtype(row[\"TYPE\"]).type\n",
    "    is_interval = True if dtype != bool else False\n",
    "    min_range = dtype(row[\"MIN_RANGE\"])\n",
    "    max_value = dtype(max(db_indivs[index]))\n",
    "    min_value = dtype(min(db_indivs[index]))        \n",
    "    gene_descriptors.append(str(row[\"DESCRIPTION\"]))\n",
    "    base_gene_chain.add(Gene(dtype=dtype, is_interval=is_interval, min_radius=min_range/2,\n",
    "                             min_value=min_value, max_value=max_value, ordering=-1))    \n",
    "\n",
    "for index, row in trading_params.iterrows():\n",
    "    is_interval = False\n",
    "    dtype = np.dtype(row[\"TYPE\"]).type\n",
    "    min_value = dtype(row[\"MIN\"])\n",
    "    max_value = dtype(row[\"MAX\"])\n",
    "    gene_descriptors.append(str(row[\"DESCRIPTION\"]))\n",
    "    base_gene_chain.add(Gene(dtype=dtype, is_interval=is_interval, tags=[\"trading\"],\n",
    "                             min_value=min_value, max_value=max_value, ordering=-1))    "
   ]
  },
  {
   "cell_type": "markdown",
   "metadata": {},
   "source": [
    "## Init genetic algorithm"
   ]
  },
  {
   "cell_type": "code",
   "execution_count": 5,
   "metadata": {},
   "outputs": [],
   "source": [
    "ev = Evolution(\n",
    "    MAX_GENS=20,\n",
    "    fitness=Fitness(),\n",
    "    base_indiv=base_gene_chain,\n",
    "    crosser=RandomGeneCrosser(),\n",
    "    selector=TopNSelector(),    \n",
    "    multithreaded=True,\n",
    "    verbose=True)"
   ]
  },
  {
   "cell_type": "markdown",
   "metadata": {},
   "source": [
    "## Create start population"
   ]
  },
  {
   "cell_type": "code",
   "execution_count": 6,
   "metadata": {
    "scrolled": true
   },
   "outputs": [],
   "source": [
    "#ev.init_random_indivs(size=10, min_models=10)\n",
    "#ev.dump(\"population.pkl\")\n",
    "ev.load_indivs(\"population.pkl\")"
   ]
  },
  {
   "cell_type": "markdown",
   "metadata": {},
   "source": [
    "## Run "
   ]
  },
  {
   "cell_type": "code",
   "execution_count": 7,
   "metadata": {
    "scrolled": false
   },
   "outputs": [
    {
     "name": "stdout",
     "output_type": "stream",
     "text": [
      "Generation: 20 | Best fitness: 65.0 | Best ratio: 21.0 | Models: 132 | Time: avg per gen = 86s. total = 1694s.                                                                                                    "
     ]
    }
   ],
   "source": [
    "ev.run(dump=\"best.pkl\")"
   ]
  },
  {
   "cell_type": "code",
   "execution_count": 9,
   "metadata": {
    "scrolled": true
   },
   "outputs": [
    {
     "data": {
      "image/png": "[encoded data removed]",
      "text/plain": [
       "<Figure size 1152x288 with 1 Axes>"
      ]
     },
     "metadata": {},
     "output_type": "display_data"
    }
   ],
   "source": [
    "plot([ res[\"fitness\"].fitness for res in ev._run_results ], \"fitness\")"
   ]
  },
  {
   "cell_type": "code",
   "execution_count": null,
   "metadata": {},
   "outputs": [],
   "source": [
    "ev.print_generation()"
   ]
  },
  {
   "cell_type": "markdown",
   "metadata": {},
   "source": [
    "## Working with results"
   ]
  },
  {
   "cell_type": "code",
   "execution_count": 6,
   "metadata": {
    "scrolled": false
   },
   "outputs": [],
   "source": [
    "fitness = FitnessTest()"
   ]
  },
  {
   "cell_type": "code",
   "execution_count": 7,
   "metadata": {
    "scrolled": false
   },
   "outputs": [
    {
     "name": "stdout",
     "output_type": "stream",
     "text": [
      "fitness: 31.39 ratio: 9.996815286624203 models: [Model(model_index=19, model_id=ModelID(model_time=1514910600, level_time=1514906700, direction=True), stop=0, take=0, bu=0, insufficient_history=False), Model(model_index=61, model_id=ModelID(model_time=1515030000, level_time=1515027600, direction=True), stop=0, take=0, bu=0, insufficient_history=False), Model(model_index=109, model_id=ModelID(model_time=1515086700, level_time=1515083400, direction=False), stop=0, take=0, bu=0, insufficient_history=False), Model(model_index=171, model_id=ModelID(model_time=1515440700, level_time=1515437700, direction=True), stop=0, take=0, bu=0, insufficient_history=False), Model(model_index=206, model_id=ModelID(model_time=1515505500, level_time=1515502500, direction=False), stop=0, take=0, bu=0, insufficient_history=False), Model(model_index=272, model_id=ModelID(model_time=1515642900, level_time=1515639600, direction=False), stop=0, take=0, bu=0, insufficient_history=False), Model(model_index=319, model_id=ModelID(model_time=1515743100, level_time=1515738900, direction=True), stop=0, take=0, bu=0, insufficient_history=False), Model(model_index=430, model_id=ModelID(model_time=1516206300, level_time=1516203900, direction=False), stop=0, take=0, bu=0, insufficient_history=False), Model(model_index=444, model_id=ModelID(model_time=1516254300, level_time=1516251000, direction=True), stop=0, take=0, bu=0, insufficient_history=False), Model(model_index=464, model_id=ModelID(model_time=1516590900, level_time=1516587600, direction=True), stop=0, take=0, bu=0, insufficient_history=False), Model(model_index=523, model_id=ModelID(model_time=1516833900, level_time=1516830600, direction=True), stop=0, take=0, bu=0, insufficient_history=False), Model(model_index=563, model_id=ModelID(model_time=1516997400, level_time=1516994400, direction=False), stop=0, take=0, bu=0, insufficient_history=False), Model(model_index=574, model_id=ModelID(model_time=1517211900, level_time=1517208900, direction=True), stop=1, take=0, bu=0, insufficient_history=False), Model(model_index=702, model_id=ModelID(model_time=1517551200, level_time=1517546400, direction=False), stop=0, take=0, bu=0, insufficient_history=False), Model(model_index=739, model_id=ModelID(model_time=1517804700, level_time=1517801100, direction=True), stop=0, take=0, bu=1, insufficient_history=False), Model(model_index=795, model_id=ModelID(model_time=1517974500, level_time=1517970600, direction=True), stop=0, take=1, bu=0, insufficient_history=False), Model(model_index=915, model_id=ModelID(model_time=1518506100, level_time=1518502800, direction=False), stop=0, take=0, bu=0, insufficient_history=False), Model(model_index=936, model_id=ModelID(model_time=1518569100, level_time=1518566100, direction=True), stop=0, take=0, bu=0, insufficient_history=False), Model(model_index=949, model_id=ModelID(model_time=1518602400, level_time=1518599400, direction=True), stop=1, take=0, bu=0, insufficient_history=False), Model(model_index=976, model_id=ModelID(model_time=1518674700, level_time=1518670200, direction=False), stop=0, take=0, bu=0, insufficient_history=False), Model(model_index=995, model_id=ModelID(model_time=1518707100, level_time=1518703800, direction=False), stop=0, take=0, bu=0, insufficient_history=False), Model(model_index=1056, model_id=ModelID(model_time=1519014600, level_time=1519008300, direction=False), stop=0, take=0, bu=0, insufficient_history=False), Model(model_index=1069, model_id=ModelID(model_time=1519016100, level_time=1519008600, direction=False), stop=0, take=1, bu=0, insufficient_history=False), Model(model_index=1108, model_id=ModelID(model_time=1519065900, level_time=1519062900, direction=False), stop=0, take=0, bu=0, insufficient_history=False), Model(model_index=1113, model_id=ModelID(model_time=1519077900, level_time=1519073700, direction=True), stop=0, take=0, bu=0, insufficient_history=False), Model(model_index=1160, model_id=ModelID(model_time=1519194600, level_time=1519188300, direction=True), stop=0, take=0, bu=0, insufficient_history=False), Model(model_index=1546, model_id=ModelID(model_time=1520301300, level_time=1520295000, direction=False), stop=0, take=0, bu=0, insufficient_history=False), Model(model_index=1582, model_id=ModelID(model_time=1520369100, level_time=1520364900, direction=False), stop=0, take=0, bu=0, insufficient_history=False), Model(model_index=1693, model_id=ModelID(model_time=1520495400, level_time=1520492100, direction=True), stop=0, take=0, bu=0, insufficient_history=False), Model(model_index=1798, model_id=ModelID(model_time=1520625600, level_time=1520622000, direction=True), stop=0, take=0, bu=0, insufficient_history=False), Model(model_index=1810, model_id=ModelID(model_time=1520816700, level_time=1520638200, direction=False), stop=0, take=0, bu=0, insufficient_history=False), Model(model_index=1960, model_id=ModelID(model_time=1521068100, level_time=1521064200, direction=True), stop=0, take=0, bu=0, insufficient_history=False), Model(model_index=2016, model_id=ModelID(model_time=1521211800, level_time=1521209100, direction=False), stop=0, take=1, bu=0, insufficient_history=False), Model(model_index=2038, model_id=ModelID(model_time=1521237900, level_time=1521235500, direction=False), stop=0, take=0, bu=0, insufficient_history=False), Model(model_index=2355, model_id=ModelID(model_time=1522303500, level_time=1522297500, direction=False), stop=0, take=0, bu=0, insufficient_history=False), Model(model_index=2504, model_id=ModelID(model_time=1522791600, level_time=1522785600, direction=True), stop=0, take=0, bu=0, insufficient_history=False), Model(model_index=2529, model_id=ModelID(model_time=1522804800, level_time=1522801200, direction=False), stop=0, take=0, bu=0, insufficient_history=False), Model(model_index=2644, model_id=ModelID(model_time=1522967400, level_time=1522962300, direction=False), stop=0, take=0, bu=0, insufficient_history=False), Model(model_index=2667, model_id=ModelID(model_time=1522983900, level_time=1522980600, direction=False), stop=0, take=0, bu=0, insufficient_history=False), Model(model_index=2764, model_id=ModelID(model_time=1523352600, level_time=1523348700, direction=True), stop=0, take=1, bu=0, insufficient_history=False), Model(model_index=2784, model_id=ModelID(model_time=1523424300, level_time=1523421000, direction=True), stop=0, take=1, bu=0, insufficient_history=False), Model(model_index=2825, model_id=ModelID(model_time=1523551200, level_time=1523547300, direction=True), stop=0, take=1, bu=0, insufficient_history=False), Model(model_index=2855, model_id=ModelID(model_time=1523596500, level_time=1523593200, direction=True), stop=0, take=0, bu=0, insufficient_history=False), Model(model_index=2877, model_id=ModelID(model_time=1523655600, level_time=1523650800, direction=True), stop=0, take=0, bu=0, insufficient_history=False), Model(model_index=2915, model_id=ModelID(model_time=1524058500, level_time=1524055800, direction=False), stop=0, take=0, bu=0, insufficient_history=False), Model(model_index=2963, model_id=ModelID(model_time=1524106800, level_time=1524104400, direction=True), stop=0, take=0, bu=0, insufficient_history=False), Model(model_index=3037, model_id=ModelID(model_time=1524524100, level_time=1524519600, direction=False), stop=0, take=0, bu=0, insufficient_history=False), Model(model_index=3104, model_id=ModelID(model_time=1524657900, level_time=1524655800, direction=False), stop=0, take=0, bu=0, insufficient_history=False), Model(model_index=3236, model_id=ModelID(model_time=1525215000, level_time=1525209900, direction=True), stop=0, take=0, bu=0, insufficient_history=False), Model(model_index=3369, model_id=ModelID(model_time=1525732200, level_time=1525729500, direction=True), stop=0, take=0, bu=0, insufficient_history=False), Model(model_index=3438, model_id=ModelID(model_time=1525997100, level_time=1525992600, direction=True), stop=0, take=1, bu=0, insufficient_history=False), Model(model_index=3467, model_id=ModelID(model_time=1526264100, level_time=1526259600, direction=False), stop=0, take=0, bu=0, insufficient_history=False), Model(model_index=3573, model_id=ModelID(model_time=1526453400, level_time=1526449800, direction=False), stop=0, take=0, bu=0, insufficient_history=False), Model(model_index=3643, model_id=ModelID(model_time=1526585400, level_time=1526581500, direction=False), stop=0, take=0, bu=0, insufficient_history=False), Model(model_index=3914, model_id=ModelID(model_time=1527549300, level_time=1527546900, direction=True), stop=0, take=0, bu=0, insufficient_history=False), Model(model_index=3934, model_id=ModelID(model_time=1527582000, level_time=1527579300, direction=True), stop=1, take=0, bu=0, insufficient_history=False), Model(model_index=3943, model_id=ModelID(model_time=1527633600, level_time=1527630600, direction=False), stop=0, take=0, bu=0, insufficient_history=False), Model(model_index=4002, model_id=ModelID(model_time=1527723300, level_time=1527720900, direction=False), stop=0, take=0, bu=0, insufficient_history=False), Model(model_index=4088, model_id=ModelID(model_time=1528144200, level_time=1528140000, direction=False), stop=0, take=0, bu=0, insufficient_history=False), Model(model_index=4283, model_id=ModelID(model_time=1528756500, level_time=1528752300, direction=False), stop=0, take=0, bu=0, insufficient_history=False), Model(model_index=4299, model_id=ModelID(model_time=1528771200, level_time=1528767900, direction=True), stop=0, take=0, bu=0, insufficient_history=False), Model(model_index=4320, model_id=ModelID(model_time=1528791600, level_time=1528789200, direction=False), stop=0, take=0, bu=0, insufficient_history=False), Model(model_index=4347, model_id=ModelID(model_time=1528862700, level_time=1528860300, direction=True), stop=0, take=0, bu=0, insufficient_history=False), Model(model_index=4425, model_id=ModelID(model_time=1529044200, level_time=1529041500, direction=True), stop=0, take=0, bu=0, insufficient_history=False), Model(model_index=4499, model_id=ModelID(model_time=1529344500, level_time=1529341200, direction=False), stop=1, take=0, bu=0, insufficient_history=False), Model(model_index=4628, model_id=ModelID(model_time=1529685000, level_time=1529680800, direction=False), stop=0, take=1, bu=0, insufficient_history=False), Model(model_index=4863, model_id=ModelID(model_time=1530570600, level_time=1530566100, direction=False), stop=0, take=0, bu=0, insufficient_history=False), Model(model_index=4879, model_id=ModelID(model_time=1530590100, level_time=1530586800, direction=True), stop=0, take=0, bu=0, insufficient_history=False), Model(model_index=4967, model_id=ModelID(model_time=1530805500, level_time=1530799800, direction=False), stop=0, take=0, bu=0, insufficient_history=False), Model(model_index=5326, model_id=ModelID(model_time=1532068800, level_time=1532065200, direction=False), stop=0, take=0, bu=0, insufficient_history=False), Model(model_index=5463, model_id=ModelID(model_time=1532414700, level_time=1532410200, direction=True), stop=0, take=0, bu=0, insufficient_history=False), Model(model_index=5498, model_id=ModelID(model_time=1532486100, level_time=1532482500, direction=False), stop=0, take=0, bu=0, insufficient_history=False), Model(model_index=5718, model_id=ModelID(model_time=1533008400, level_time=1533005700, direction=True), stop=1, take=0, bu=0, insufficient_history=False), Model(model_index=5891, model_id=ModelID(model_time=1533285600, level_time=1533282900, direction=False), stop=0, take=0, bu=0, insufficient_history=False), Model(model_index=5935, model_id=ModelID(model_time=1533549000, level_time=1533545700, direction=False), stop=0, take=1, bu=0, insufficient_history=False), Model(model_index=5991, model_id=ModelID(model_time=1533610500, level_time=1533604500, direction=False), stop=1, take=0, bu=1, insufficient_history=False), Model(model_index=6175, model_id=ModelID(model_time=1534264500, level_time=1534262100, direction=False), stop=0, take=1, bu=0, insufficient_history=False), Model(model_index=6227, model_id=ModelID(model_time=1534388700, level_time=1534386300, direction=True), stop=1, take=0, bu=0, insufficient_history=False), Model(model_index=6266, model_id=ModelID(model_time=1534446600, level_time=1534441800, direction=True), stop=0, take=0, bu=0, insufficient_history=False), Model(model_index=6289, model_id=ModelID(model_time=1534461000, level_time=1534456200, direction=False), stop=0, take=0, bu=0, insufficient_history=False), Model(model_index=6474, model_id=ModelID(model_time=1535350500, level_time=1535347500, direction=False), stop=0, take=0, bu=0, insufficient_history=False), Model(model_index=6481, model_id=ModelID(model_time=1535352600, level_time=1535349600, direction=False), stop=0, take=1, bu=0, insufficient_history=False), Model(model_index=6532, model_id=ModelID(model_time=1535436900, level_time=1535430600, direction=True), stop=0, take=0, bu=0, insufficient_history=False), Model(model_index=6552, model_id=ModelID(model_time=1535465400, level_time=1535462100, direction=True), stop=0, take=0, bu=0, insufficient_history=False), Model(model_index=6606, model_id=ModelID(model_time=1535616300, level_time=1535613000, direction=True), stop=0, take=0, bu=0, insufficient_history=False), Model(model_index=6627, model_id=ModelID(model_time=1535709600, level_time=1535706900, direction=True), stop=0, take=0, bu=0, insufficient_history=False), Model(model_index=6638, model_id=ModelID(model_time=1535754600, level_time=1535751300, direction=True), stop=1, take=0, bu=0, insufficient_history=False), Model(model_index=6697, model_id=ModelID(model_time=1535994000, level_time=1535991900, direction=False), stop=0, take=0, bu=0, insufficient_history=False), Model(model_index=6839, model_id=ModelID(model_time=1536552000, level_time=1536548100, direction=False), stop=0, take=0, bu=0, insufficient_history=False), Model(model_index=6983, model_id=ModelID(model_time=1536869400, level_time=1536865500, direction=False), stop=0, take=0, bu=0, insufficient_history=False), Model(model_index=6989, model_id=ModelID(model_time=1536870600, level_time=1536867900, direction=False), stop=0, take=0, bu=0, insufficient_history=False), Model(model_index=7245, model_id=ModelID(model_time=1537766700, level_time=1537762500, direction=True), stop=0, take=0, bu=0, insufficient_history=False), Model(model_index=7304, model_id=ModelID(model_time=1537859700, level_time=1537852800, direction=True), stop=0, take=0, bu=0, insufficient_history=False), Model(model_index=7308, model_id=ModelID(model_time=1537893900, level_time=1537890600, direction=True), stop=0, take=0, bu=1, insufficient_history=False), Model(model_index=7462, model_id=ModelID(model_time=1538379300, level_time=1538376900, direction=True), stop=0, take=0, bu=0, insufficient_history=False), Model(model_index=7475, model_id=ModelID(model_time=1538397900, level_time=1538391600, direction=False), stop=0, take=1, bu=0, insufficient_history=False), Model(model_index=7513, model_id=ModelID(model_time=1538451600, level_time=1538448000, direction=True), stop=0, take=0, bu=0, insufficient_history=False), Model(model_index=7664, model_id=ModelID(model_time=1538679600, level_time=1538677500, direction=True), stop=0, take=0, bu=0, insufficient_history=False), Model(model_index=7676, model_id=ModelID(model_time=1538688600, level_time=1538685300, direction=False), stop=0, take=0, bu=0, insufficient_history=False), Model(model_index=7709, model_id=ModelID(model_time=1538776800, level_time=1538772900, direction=False), stop=0, take=0, bu=0, insufficient_history=False), Model(model_index=7883, model_id=ModelID(model_time=1539291600, level_time=1539285900, direction=False), stop=0, take=0, bu=0, insufficient_history=False), Model(model_index=7998, model_id=ModelID(model_time=1539751800, level_time=1539748800, direction=True), stop=0, take=0, bu=0, insufficient_history=False), Model(model_index=8063, model_id=ModelID(model_time=1539973200, level_time=1539971100, direction=True), stop=0, take=0, bu=0, insufficient_history=False), Model(model_index=8140, model_id=ModelID(model_time=1540313700, level_time=1540311300, direction=True), stop=0, take=0, bu=0, insufficient_history=False), Model(model_index=8145, model_id=ModelID(model_time=1540323600, level_time=1540318500, direction=False), stop=0, take=0, bu=0, insufficient_history=False), Model(model_index=8248, model_id=ModelID(model_time=1540541100, level_time=1540538100, direction=False), stop=0, take=0, bu=1, insufficient_history=False), Model(model_index=8283, model_id=ModelID(model_time=1540584600, level_time=1540578300, direction=False), stop=0, take=0, bu=0, insufficient_history=False), Model(model_index=8348, model_id=ModelID(model_time=1540866000, level_time=1540861500, direction=False), stop=0, take=0, bu=0, insufficient_history=False), Model(model_index=8485, model_id=ModelID(model_time=1541434500, level_time=1541432100, direction=False), stop=0, take=0, bu=0, insufficient_history=False), Model(model_index=8505, model_id=ModelID(model_time=1541476500, level_time=1541472900, direction=True), stop=0, take=0, bu=0, insufficient_history=False), Model(model_index=8600, model_id=ModelID(model_time=1541706900, level_time=1541702700, direction=True), stop=0, take=0, bu=0, insufficient_history=False), Model(model_index=8642, model_id=ModelID(model_time=1541751600, level_time=1541749500, direction=True), stop=0, take=0, bu=0, insufficient_history=False), Model(model_index=8716, model_id=ModelID(model_time=1542001500, level_time=1541998500, direction=False), stop=0, take=1, bu=0, insufficient_history=False), Model(model_index=8787, model_id=ModelID(model_time=1542176400, level_time=1542172200, direction=True), stop=0, take=0, bu=0, insufficient_history=False), Model(model_index=8795, model_id=ModelID(model_time=1542250800, level_time=1542247200, direction=True), stop=0, take=1, bu=0, insufficient_history=False), Model(model_index=8886, model_id=ModelID(model_time=1542351000, level_time=1542344700, direction=False), stop=0, take=0, bu=0, insufficient_history=False), Model(model_index=8909, model_id=ModelID(model_time=1542392100, level_time=1542388500, direction=True), stop=0, take=0, bu=0, insufficient_history=False), Model(model_index=8991, model_id=ModelID(model_time=1542727800, level_time=1542722400, direction=True), stop=0, take=0, bu=0, insufficient_history=False), Model(model_index=9113, model_id=ModelID(model_time=1542993000, level_time=1542988200, direction=False), stop=0, take=0, bu=0, insufficient_history=True), Model(model_index=9191, model_id=ModelID(model_time=1543245300, level_time=1543242300, direction=True), stop=0, take=0, bu=1, insufficient_history=False), Model(model_index=9242, model_id=ModelID(model_time=1543326600, level_time=1543324200, direction=True), stop=0, take=0, bu=0, insufficient_history=False), Model(model_index=9418, model_id=ModelID(model_time=1543515600, level_time=1543512600, direction=False), stop=0, take=0, bu=0, insufficient_history=False), Model(model_index=9487, model_id=ModelID(model_time=1543804500, level_time=1543802100, direction=False), stop=0, take=0, bu=0, insufficient_history=False), Model(model_index=9619, model_id=ModelID(model_time=1544070300, level_time=1544066100, direction=False), stop=1, take=1, bu=0, insufficient_history=False), Model(model_index=9665, model_id=ModelID(model_time=1544133300, level_time=1544129700, direction=True), stop=0, take=0, bu=0, insufficient_history=False), Model(model_index=9680, model_id=ModelID(model_time=1544222700, level_time=1544217900, direction=False), stop=0, take=1, bu=0, insufficient_history=False), Model(model_index=9685, model_id=ModelID(model_time=1544411100, level_time=1544406600, direction=False), stop=0, take=0, bu=0, insufficient_history=False), Model(model_index=9803, model_id=ModelID(model_time=1544678100, level_time=1544673600, direction=False), stop=0, take=0, bu=0, insufficient_history=False), Model(model_index=9835, model_id=ModelID(model_time=1544760000, level_time=1544755800, direction=True), stop=0, take=0, bu=0, insufficient_history=False), Model(model_index=9879, model_id=ModelID(model_time=1545036900, level_time=1545033300, direction=False), stop=0, take=0, bu=0, insufficient_history=False), Model(model_index=9970, model_id=ModelID(model_time=1545265800, level_time=1545257100, direction=True), stop=0, take=0, bu=0, insufficient_history=True), Model(model_index=10031, model_id=ModelID(model_time=1545363000, level_time=1545359100, direction=True), stop=1, take=0, bu=0, insufficient_history=False), Model(model_index=10043, model_id=ModelID(model_time=1545402300, level_time=1545398100, direction=False), stop=0, take=0, bu=1, insufficient_history=False), Model(model_index=10120, model_id=ModelID(model_time=1545930900, level_time=1545925800, direction=False), stop=0, take=0, bu=0, insufficient_history=False), Model(model_index=10194, model_id=ModelID(model_time=1546037400, level_time=1546032900, direction=False), stop=0, take=0, bu=0, insufficient_history=False)] max drawdown: 3.14 max account value: 33.06 \n"
     ]
    },
    {
     "data": {
      "image/png": "[encoded data removed]",
      "text/plain": [
       "<Figure size 1152x288 with 1 Axes>"
      ]
     },
     "metadata": {},
     "output_type": "display_data"
    }
   ],
   "source": [
    "with open(\"indivs/best2.pkl\", 'rb') as file:\n",
    "    indivs = pickle.load(file)\n",
    "indiv = indivs[0]\n",
    "indiv.fitness = None\n",
    "fitness.calc([indiv], ext_info=True)\n",
    "\n",
    "print(indiv.fitness)\n",
    "plot(indiv.fitness.fitness_list)"
   ]
  },
  {
   "cell_type": "code",
   "execution_count": 35,
   "metadata": {
    "scrolled": true
   },
   "outputs": [
    {
     "name": "stdout",
     "output_type": "stream",
     "text": [
      "unequal trades: 25\n",
      "\n",
      "#141 real: stops:take:bu = 0:0:1\n",
      " emulated: stops:take:bu = 0:0:0, model line 2886\n",
      "#150 real: stops:take:bu = 0:0:1\n",
      " emulated: no trade, no model in db\n",
      "#157 real: stops:take:bu = 1:0:0\n",
      " emulated: stops:take:bu = 1:1:0, model line 3290\n",
      "#159 real: stops:take:bu = 1:0:0\n",
      " emulated: stops:take:bu = 0:0:0, model line 3303\n",
      "#161 real: stops:take:bu = 0:0:1\n",
      " emulated: no trade, no model in db\n",
      "#172 real: stops:take:bu = 0:0:1\n",
      " emulated: stops:take:bu = 0:0:0, model line 3560\n",
      "#177 real: stops:take:bu = 0:0:0\n",
      " emulated: no trade, model line 3642\n",
      "#207 real: stops:take:bu = 0:0:0\n",
      " emulated: no trade, model line 4302\n",
      "#254 real: stops:take:bu = 1:0:1\n",
      " emulated: no trade, model line 5161\n",
      "#264 real: stops:take:bu = 0:1:0\n",
      " emulated: no trade, model line 5402\n",
      "#281 real: stops:take:bu = 0:0:0\n",
      " emulated: no trade, no model in db\n",
      "#291 real: stops:take:bu = 0:0:0\n",
      " emulated: no trade, no model in db\n",
      "#292 real: stops:take:bu = 1:0:0\n",
      " emulated: no trade, no model in db\n",
      "#366 real: stops:take:bu = 0:0:1\n",
      " emulated: stops:take:bu = 0:1:0, model line 7718\n",
      "#371 real: stops:take:bu = 0:0:1\n",
      " emulated: stops:take:bu = 0:0:0, model line 7768\n",
      "#372 real: stops:take:bu = 0:1:0\n",
      " emulated: no trade, model line 7822\n",
      "#380 real: stops:take:bu = 0:0:0\n",
      " emulated: no trade, no model in db\n",
      "#389 real: stops:take:bu = 0:0:0\n",
      " emulated: no trade, no model in db\n",
      "#425 real: stops:take:bu = 0:0:0\n",
      " emulated: no trade, model line 8647\n",
      "#435 real: stops:take:bu = 0:0:0\n",
      " emulated: no trade, model line 8853\n",
      "#440 real: stops:take:bu = 1:0:0\n",
      " emulated: stops:take:bu = 2:0:0, model line 8936\n",
      "#442 real: stops:take:bu = 0:0:0\n",
      " emulated: no trade, model line 8990\n",
      "#443 real: stops:take:bu = 0:0:0\n",
      " emulated: no trade, model line 9009\n",
      "#446 real: stops:take:bu = 1:0:0\n",
      " emulated: stops:take:bu = 0:0:0, model line 9074\n",
      "#462 real: stops:take:bu = 0:0:0\n",
      " emulated: no trade, no model in db\n"
     ]
    }
   ],
   "source": [
    "compare_trading_reports(fitness, indiv.fitness)"
   ]
  },
  {
   "cell_type": "code",
   "execution_count": 8,
   "metadata": {
    "scrolled": false
   },
   "outputs": [
    {
     "data": {
      "text/html": [
       "<table>\n",
       "<tbody>\n",
       "<tr><td># </td><td>Line</td><td>Time               </td><td>Type      </td><td>Order</td><td>Price  </td><td>S/L    </td><td>T/P    </td></tr>\n",
       "<tr><td>1 </td><td>4   </td><td>2018.01.02 03:40:00</td><td>sell limit</td><td>1    </td><td>1.35123</td><td>1.35209</td><td>1.34968</td></tr>\n",
       "<tr><td>2 </td><td>4   </td><td>2018.01.02 03:58:00</td><td>sell      </td><td>1    </td><td>1.35123</td><td>1.35209</td><td>1.34968</td></tr>\n",
       "<tr><td>3 </td><td>4   </td><td>2018.01.02 05:20:00</td><td>s/l(buy)  </td><td>1    </td><td>1.35209</td><td>1.35209</td><td>1.34968</td></tr>\n",
       "<tr><td>4 </td><td>4   </td><td>2018.01.02 05:20:00</td><td>sell limit</td><td>2    </td><td>1.35123</td><td>1.35209</td><td>1.34968</td></tr>\n",
       "<tr><td>5 </td><td>4   </td><td>2018.01.02 06:05:00</td><td>expiration</td><td>2    </td><td>1.35123</td><td>1.35209</td><td>1.34968</td></tr>\n",
       "<tr><td>6 </td><td>11  </td><td>2018.01.02 07:05:00</td><td>buy limit </td><td>3    </td><td>1.35159</td><td>1.35105</td><td>1.35257</td></tr>\n",
       "<tr><td>7 </td><td>11  </td><td>2018.01.02 07:15:00</td><td>buy       </td><td>3    </td><td>1.35159</td><td>1.35105</td><td>1.35257</td></tr>\n",
       "<tr><td>8 </td><td>11  </td><td>2018.01.02 08:01:00</td><td>s/l(sell) </td><td>3    </td><td>1.35192</td><td>1.35192</td><td>1.35257</td></tr>\n",
       "<tr><td>9 </td><td>19  </td><td>2018.01.02 16:30:00</td><td>buy limit </td><td>4    </td><td>1.35605</td><td>1.35497</td><td>1.35801</td></tr>\n",
       "<tr><td>10</td><td>19  </td><td>2018.01.02 16:50:00</td><td>delete    </td><td>4    </td><td>1.35605</td><td>1.35497</td><td>1.35801</td></tr>\n",
       "<tr><td>11</td><td>48  </td><td>2018.01.03 23:10:00</td><td>buy limit </td><td>5    </td><td>1.35188</td><td>1.35091</td><td>1.35363</td></tr>\n",
       "<tr><td>12</td><td>48  </td><td>2018.01.03 23:55:00</td><td>expiration</td><td>5    </td><td>1.35188</td><td>1.35091</td><td>1.35363</td></tr>\n",
       "<tr><td>13</td><td>79  </td><td>2018.01.04 06:20:00</td><td>sell limit</td><td>6    </td><td>1.35164</td><td>1.35223</td><td>1.35056</td></tr>\n",
       "<tr><td>14</td><td>79  </td><td>2018.01.04 07:05:00</td><td>expiration</td><td>6    </td><td>1.35164</td><td>1.35223</td><td>1.35056</td></tr>\n",
       "<tr><td>15</td><td>90  </td><td>2018.01.04 10:30:00</td><td>sell limit</td><td>7    </td><td>1.35193</td><td>1.35297</td><td>1.35004</td></tr>\n",
       "<tr><td>16</td><td>90  </td><td>2018.01.04 10:36:00</td><td>delete    </td><td>7    </td><td>1.35193</td><td>1.35297</td><td>1.35004</td></tr>\n",
       "<tr><td>17</td><td>162 </td><td>2018.01.08 15:30:00</td><td>buy limit </td><td>8    </td><td>1.35504</td><td>1.35358</td><td>1.35768</td></tr>\n",
       "<tr><td>18</td><td>162 </td><td>2018.01.08 16:05:00</td><td>buy       </td><td>8    </td><td>1.35504</td><td>1.35358</td><td>1.35768</td></tr>\n",
       "<tr><td>19</td><td>162 </td><td>2018.01.08 17:58:00</td><td>t/p(sell) </td><td>8    </td><td>1.35768</td><td>1.35593</td><td>1.35768</td></tr>\n",
       "<tr><td>20</td><td>167 </td><td>2018.01.08 16:20:00</td><td>sell limit</td><td>9    </td><td>1.35405</td><td>1.35523</td><td>1.35191</td></tr>\n",
       "<tr><td>21</td><td>167 </td><td>2018.01.08 16:29:00</td><td>sell      </td><td>9    </td><td>1.35405</td><td>1.35523</td><td>1.35191</td></tr>\n",
       "<tr><td>22</td><td>167 </td><td>2018.01.08 16:53:00</td><td>s/l(buy)  </td><td>9    </td><td>1.35523</td><td>1.35523</td><td>1.35191</td></tr>\n",
       "<tr><td>23</td><td>167 </td><td>2018.01.08 16:55:00</td><td>delete    </td><td>9    </td><td>1.35405</td><td>1.35523</td><td>1.35191</td></tr>\n",
       "<tr><td>24</td><td>187 </td><td>2018.01.09 02:20:00</td><td>buy limit </td><td>10   </td><td>1.357  </td><td>1.35647</td><td>1.35795</td></tr>\n",
       "<tr><td>25</td><td>187 </td><td>2018.01.09 02:24:00</td><td>delete    </td><td>10   </td><td>1.357  </td><td>1.35647</td><td>1.35795</td></tr>\n",
       "<tr><td>26</td><td>209 </td><td>2018.01.09 14:00:00</td><td>sell limit</td><td>11   </td><td>1.35286</td><td>1.3539 </td><td>1.35098</td></tr>\n",
       "<tr><td>27</td><td>209 </td><td>2018.01.09 14:01:00</td><td>delete    </td><td>11   </td><td>1.35286</td><td>1.3539 </td><td>1.35098</td></tr>\n",
       "<tr><td>28</td><td>222 </td><td>2018.01.10 01:20:00</td><td>buy limit </td><td>12   </td><td>1.35403</td><td>1.35361</td><td>1.35478</td></tr>\n",
       "<tr><td>29</td><td>222 </td><td>2018.01.10 01:23:00</td><td>delete    </td><td>12   </td><td>1.35403</td><td>1.35361</td><td>1.35478</td></tr>\n",
       "<tr><td>30</td><td>235 </td><td>2018.01.10 05:15:00</td><td>sell limit</td><td>13   </td><td>1.35328</td><td>1.35374</td><td>1.35244</td></tr>\n",
       "<tr><td>31</td><td>235 </td><td>2018.01.10 05:59:00</td><td>sell      </td><td>13   </td><td>1.35328</td><td>1.35374</td><td>1.35244</td></tr>\n",
       "<tr><td>32</td><td>235 </td><td>2018.01.10 07:32:00</td><td>s/l(buy)  </td><td>13   </td><td>1.353  </td><td>1.353  </td><td>1.35244</td></tr>\n",
       "<tr><td>33</td><td>246 </td><td>2018.01.10 16:20:00</td><td>sell limit</td><td>14   </td><td>1.35279</td><td>1.35415</td><td>1.35033</td></tr>\n",
       "<tr><td>34</td><td>246 </td><td>2018.01.10 16:28:00</td><td>sell      </td><td>14   </td><td>1.35279</td><td>1.35415</td><td>1.35033</td></tr>\n",
       "<tr><td>35</td><td>246 </td><td>2018.01.10 17:08:00</td><td>s/l(buy)  </td><td>14   </td><td>1.35196</td><td>1.35196</td><td>1.35033</td></tr>\n",
       "<tr><td>36</td><td>288 </td><td>2018.01.11 18:25:00</td><td>sell limit</td><td>15   </td><td>1.35342</td><td>1.3548 </td><td>1.35092</td></tr>\n",
       "<tr><td>37</td><td>288 </td><td>2018.01.11 18:33:00</td><td>delete    </td><td>15   </td><td>1.35342</td><td>1.3548 </td><td>1.35092</td></tr>\n",
       "<tr><td>38</td><td>292 </td><td>2018.01.11 21:05:00</td><td>buy limit </td><td>16   </td><td>1.3542 </td><td>1.3532 </td><td>1.35602</td></tr>\n",
       "<tr><td>39</td><td>292 </td><td>2018.01.11 21:33:00</td><td>delete    </td><td>16   </td><td>1.3542 </td><td>1.3532 </td><td>1.35602</td></tr>\n",
       "<tr><td>40</td><td>298 </td><td>2018.01.11 22:10:00</td><td>sell limit</td><td>17   </td><td>1.35325</td><td>1.35405</td><td>1.35181</td></tr>\n",
       "<tr><td>41</td><td>298 </td><td>2018.01.11 22:55:00</td><td>expiration</td><td>17   </td><td>1.35325</td><td>1.35405</td><td>1.35181</td></tr>\n",
       "<tr><td>42</td><td>312 </td><td>2018.01.12 02:05:00</td><td>delete    </td><td>17   </td><td>1.35373</td><td>1.35438</td><td>1.35254</td></tr>\n",
       "<tr><td>43</td><td>317 </td><td>2018.01.12 07:25:00</td><td>sell limit</td><td>18   </td><td>1.35453</td><td>1.35507</td><td>1.35356</td></tr>\n",
       "<tr><td>44</td><td>317 </td><td>2018.01.12 07:27:00</td><td>sell      </td><td>18   </td><td>1.35453</td><td>1.35507</td><td>1.35356</td></tr>\n",
       "<tr><td>45</td><td>317 </td><td>2018.01.12 07:53:00</td><td>s/l(buy)  </td><td>18   </td><td>1.3542 </td><td>1.3542 </td><td>1.35356</td></tr>\n",
       "<tr><td>46</td><td>345 </td><td>2018.01.15 01:10:00</td><td>sell limit</td><td>19   </td><td>1.37308</td><td>1.37424</td><td>1.37097</td></tr>\n",
       "<tr><td>47</td><td>345 </td><td>2018.01.15 01:55:00</td><td>expiration</td><td>19   </td><td>1.37308</td><td>1.37424</td><td>1.37097</td></tr>\n",
       "<tr><td>48</td><td>355 </td><td>2018.01.15 05:05:00</td><td>buy limit </td><td>20   </td><td>1.37422</td><td>1.37306</td><td>1.37632</td></tr>\n",
       "<tr><td>49</td><td>355 </td><td>2018.01.15 05:50:00</td><td>expiration</td><td>20   </td><td>1.37422</td><td>1.37306</td><td>1.37632</td></tr>\n",
       "<tr><td>50</td><td>381 </td><td>2018.01.16 08:00:00</td><td>buy limit </td><td>21   </td><td>1.37929</td><td>1.37868</td><td>1.38039</td></tr>\n",
       "<tr><td>51</td><td>381 </td><td>2018.01.16 08:02:00</td><td>delete    </td><td>21   </td><td>1.37929</td><td>1.37868</td><td>1.38039</td></tr>\n",
       "<tr><td>52</td><td>388 </td><td>2018.01.16 14:55:00</td><td>sell limit</td><td>22   </td><td>1.37496</td><td>1.37641</td><td>1.37234</td></tr>\n",
       "<tr><td>53</td><td>388 </td><td>2018.01.16 15:40:00</td><td>expiration</td><td>22   </td><td>1.37496</td><td>1.37641</td><td>1.37234</td></tr>\n",
       "<tr><td>54</td><td>407 </td><td>2018.01.16 19:50:00</td><td>sell limit</td><td>23   </td><td>1.37686</td><td>1.37792</td><td>1.37494</td></tr>\n",
       "<tr><td>55</td><td>407 </td><td>2018.01.16 20:28:00</td><td>delete    </td><td>23   </td><td>1.37686</td><td>1.37792</td><td>1.37494</td></tr>\n",
       "<tr><td>56</td><td>423 </td><td>2018.01.17 15:00:00</td><td>buy limit </td><td>24   </td><td>1.37885</td><td>1.3777 </td><td>1.38093</td></tr>\n",
       "<tr><td>57</td><td>423 </td><td>2018.01.17 15:34:00</td><td>buy       </td><td>24   </td><td>1.37885</td><td>1.3777 </td><td>1.38093</td></tr>\n",
       "<tr><td>58</td><td>423 </td><td>2018.01.17 15:51:00</td><td>s/l(sell) </td><td>24   </td><td>1.37955</td><td>1.37955</td><td>1.38093</td></tr>\n",
       "<tr><td>59</td><td>430 </td><td>2018.01.17 16:25:00</td><td>sell limit</td><td>25   </td><td>1.37916</td><td>1.38042</td><td>1.37688</td></tr>\n",
       "<tr><td>60</td><td>430 </td><td>2018.01.17 17:07:00</td><td>delete    </td><td>25   </td><td>1.37916</td><td>1.38042</td><td>1.37688</td></tr>\n",
       "<tr><td>61</td><td>448 </td><td>2018.01.18 10:45:00</td><td>sell limit</td><td>26   </td><td>1.38335</td><td>1.38476</td><td>1.38079</td></tr>\n",
       "<tr><td>62</td><td>448 </td><td>2018.01.18 10:46:00</td><td>sell      </td><td>26   </td><td>1.38335</td><td>1.38476</td><td>1.38079</td></tr>\n",
       "<tr><td>63</td><td>448 </td><td>2018.01.18 11:06:00</td><td>s/l(buy)  </td><td>26   </td><td>1.38249</td><td>1.38249</td><td>1.38079</td></tr>\n",
       "<tr><td>64</td><td>450 </td><td>2018.01.18 12:35:00</td><td>buy limit </td><td>27   </td><td>1.38399</td><td>1.38273</td><td>1.38627</td></tr>\n",
       "<tr><td>65</td><td>450 </td><td>2018.01.18 12:41:00</td><td>buy       </td><td>27   </td><td>1.38399</td><td>1.38273</td><td>1.38627</td></tr>\n",
       "<tr><td>66</td><td>450 </td><td>2018.01.18 12:58:00</td><td>t/p(sell) </td><td>27   </td><td>1.38627</td><td>1.38476</td><td>1.38627</td></tr>\n",
       "<tr><td>67</td><td>457 </td><td>2018.01.19 05:05:00</td><td>buy limit </td><td>28   </td><td>1.39005</td><td>1.38908</td><td>1.39181</td></tr>\n",
       "<tr><td>68</td><td>457 </td><td>2018.01.19 05:11:00</td><td>buy       </td><td>28   </td><td>1.39005</td><td>1.38908</td><td>1.39181</td></tr>\n",
       "<tr><td>69</td><td>457 </td><td>2018.01.19 05:57:00</td><td>t/p(sell) </td><td>28   </td><td>1.39181</td><td>1.39064</td><td>1.39181</td></tr>\n",
       "<tr><td>70</td><td>464 </td><td>2018.01.22 03:15:00</td><td>buy limit </td><td>29   </td><td>1.38862</td><td>1.38718</td><td>1.39123</td></tr>\n",
       "<tr><td>71</td><td>464 </td><td>2018.01.22 03:16:00</td><td>delete    </td><td>29   </td><td>1.38862</td><td>1.38718</td><td>1.39123</td></tr>\n",
       "<tr><td>72</td><td>480 </td><td>2018.01.22 14:00:00</td><td>buy limit </td><td>30   </td><td>1.39072</td><td>1.38944</td><td>1.39304</td></tr>\n",
       "<tr><td>73</td><td>480 </td><td>2018.01.22 14:03:00</td><td>buy       </td><td>30   </td><td>1.39072</td><td>1.38944</td><td>1.39304</td></tr>\n",
       "<tr><td>74</td><td>480 </td><td>2018.01.22 14:41:00</td><td>s/l(sell) </td><td>30   </td><td>1.38944</td><td>1.38944</td><td>1.39304</td></tr>\n",
       "<tr><td>75</td><td>526 </td><td>2018.01.24 23:25:00</td><td>sell limit</td><td>31   </td><td>1.42031</td><td>1.42137</td><td>1.41839</td></tr>\n",
       "<tr><td>76</td><td>526 </td><td>2018.01.24 23:33:00</td><td>delete    </td><td>31   </td><td>1.42031</td><td>1.42137</td><td>1.41839</td></tr>\n",
       "<tr><td>77</td><td>554 </td><td>2018.01.26 10:55:00</td><td>buy limit </td><td>32   </td><td>1.42376</td><td>1.42176</td><td>1.42738</td></tr>\n",
       "<tr><td>78</td><td>554 </td><td>2018.01.26 10:55:00</td><td>buy       </td><td>32   </td><td>1.42376</td><td>1.42176</td><td>1.42738</td></tr>\n",
       "<tr><td>79</td><td>554 </td><td>2018.01.26 11:29:00</td><td>s/l(sell) </td><td>32   </td><td>1.42498</td><td>1.42498</td><td>1.42738</td></tr>\n",
       "<tr><td>80</td><td>557 </td><td>2018.01.26 13:25:00</td><td>sell limit</td><td>33   </td><td>1.42431</td><td>1.42606</td><td>1.42115</td></tr>\n",
       "<tr><td>81</td><td>557 </td><td>2018.01.26 13:38:00</td><td>delete    </td><td>33   </td><td>1.42431</td><td>1.42606</td><td>1.42115</td></tr>\n",
       "<tr><td>82</td><td>563 </td><td>2018.01.26 20:10:00</td><td>sell limit</td><td>34   </td><td>1.41794</td><td>1.41964</td><td>1.41487</td></tr>\n",
       "<tr><td>83</td><td>563 </td><td>2018.01.26 20:55:00</td><td>expiration</td><td>34   </td><td>1.41794</td><td>1.41964</td><td>1.41487</td></tr>\n",
       "<tr><td>84</td><td>574 </td><td>2018.01.29 07:45:00</td><td>buy limit </td><td>35   </td><td>1.41421</td><td>1.41316</td><td>1.41611</td></tr>\n",
       "<tr><td>85</td><td>574 </td><td>2018.01.29 07:47:00</td><td>delete    </td><td>35   </td><td>1.41421</td><td>1.41316</td><td>1.41611</td></tr>\n",
       "<tr><td>86</td><td>603 </td><td>2018.01.30 17:05:00</td><td>buy limit </td><td>36   </td><td>1.41449</td><td>1.41252</td><td>1.41805</td></tr>\n",
       "<tr><td>87</td><td>603 </td><td>2018.01.30 17:13:00</td><td>delete    </td><td>36   </td><td>1.41449</td><td>1.41252</td><td>1.41805</td></tr>\n",
       "<tr><td>88</td><td>619 </td><td>2018.01.31 13:10:00</td><td>sell limit</td><td>37   </td><td>1.41357</td><td>1.41543</td><td>1.41021</td></tr>\n",
       "<tr><td>89</td><td>619 </td><td>2018.01.31 13:11:00</td><td>delete    </td><td>37   </td><td>1.41357</td><td>1.41543</td><td>1.41021</td></tr>\n",
       "<tr><td>90</td><td>625 </td><td>2018.01.31 20:05:00</td><td>buy limit </td><td>38   </td><td>1.41938</td><td>1.41745</td><td>1.42288</td></tr>\n",
       "<tr><td>91</td><td>625 </td><td>2018.01.31 20:39:00</td><td>buy       </td><td>38   </td><td>1.41938</td><td>1.41745</td><td>1.42288</td></tr>\n",
       "<tr><td>92</td><td>625 </td><td>2018.01.31 21:00:00</td><td>s/l(sell) </td><td>38   </td><td>1.41745</td><td>1.41745</td><td>1.42288</td></tr>\n",
       "<tr><td>93</td><td>644 </td><td>2018.02.01 03:05:00</td><td>buy limit </td><td>39   </td><td>1.42066</td><td>1.41941</td><td>1.42293</td></tr>\n",
       "<tr><td>94</td><td>644 </td><td>2018.02.01 03:16:00</td><td>delete    </td><td>39   </td><td>1.42066</td><td>1.41941</td><td>1.42293</td></tr>\n",
       "<tr><td>95</td><td>697 </td><td>2018.02.02 05:35:00</td><td>sell limit</td><td>40   </td><td>1.42572</td><td>1.42727</td><td>1.42292</td></tr>\n",
       "<tr><td>96</td><td>697 </td><td>2018.02.02 06:20:00</td><td>expiration</td><td>40   </td><td>1.42572</td><td>1.42727</td><td>1.42292</td></tr>\n",
       "<tr><td>97</td><td>717 </td><td>2018.02.02 13:05:00</td><td>sell limit</td><td>41   </td><td>1.42076</td><td>1.42246</td><td>1.41769</td></tr>\n",
       "<tr><td>98</td><td>717 </td><td>2018.02.02 13:16:00</td><td>delete    </td><td>41   </td><td>1.42076</td><td>1.42246</td><td>1.41769</td></tr>\n",
       "<tr><td>99</td><td>782 </td><td>2018.02.06 20:15:00</td><td>buy limit </td><td>42   </td><td>1.39708</td><td>1.39482</td><td>1.40117</td></tr>\n",
       "</tbody>\n",
       "</table>"
      ],
      "text/plain": [
       "<IPython.core.display.HTML object>"
      ]
     },
     "metadata": {},
     "output_type": "display_data"
    }
   ],
   "source": [
    "table = [[\"#\", \"Line\", \"Time\", \"Type\", \"Order\", \"Price\", \"S/L\", \"T/P\"]]\n",
    "table.extend(indiv.fitness.trade_history)\n",
    "display(HTML(tabulate.tabulate(table[:100], tablefmt='html')))"
   ]
  },
  {
   "cell_type": "code",
   "execution_count": 8,
   "metadata": {
    "scrolled": true
   },
   "outputs": [
    {
     "name": "stdout",
     "output_type": "stream",
     "text": [
      "Indiv parameters:\n",
      "3, 11\n",
      "12, 28\n",
      "3, 11\n",
      "0, 4\n",
      "0.2924041052801376, 2.0067282624923743\n",
      "0.22610544025290533, 0.6801404873526311\n",
      "0.4198038502926593, 0.9155326179160412\n",
      "0.198621119148173, 0.5994014874311\n",
      "0.18101388621117967, 0.5919729748607382\n",
      "-0.8096544198236224\n",
      "1.5676429898228055\n",
      "1.628527855618223\n",
      "2.984500013098722\n",
      "-0.09960774966393071\n",
      "1.414932388974585\n",
      "2.3665780190636942\n",
      "4\n",
      "23\n",
      "10\n",
      "Inidiv models:\n"
     ]
    },
    {
     "ename": "AttributeError",
     "evalue": "'FitnessResult' object has no attribute 'model_indexes'",
     "output_type": "error",
     "traceback": [
      "\u001b[1;31m---------------------------------------------------------------------------\u001b[0m",
      "\u001b[1;31mAttributeError\u001b[0m                            Traceback (most recent call last)",
      "\u001b[1;32m<ipython-input-8-271da10945c6>\u001b[0m in \u001b[0;36m<module>\u001b[1;34m\u001b[0m\n\u001b[0;32m     12\u001b[0m \u001b[0mtrades\u001b[0m \u001b[1;33m=\u001b[0m \u001b[1;36m0\u001b[0m\u001b[1;33m\u001b[0m\u001b[1;33m\u001b[0m\u001b[0m\n\u001b[0;32m     13\u001b[0m \u001b[0mtable\u001b[0m \u001b[1;33m=\u001b[0m \u001b[1;33m[\u001b[0m\u001b[1;33m[\u001b[0m\u001b[1;34m\"model number\"\u001b[0m\u001b[1;33m,\u001b[0m \u001b[1;34m\"stops\"\u001b[0m\u001b[1;33m,\u001b[0m \u001b[1;34m\"take\"\u001b[0m\u001b[1;33m,\u001b[0m \u001b[1;34m\"bu\"\u001b[0m\u001b[1;33m]\u001b[0m\u001b[1;33m]\u001b[0m\u001b[1;33m\u001b[0m\u001b[1;33m\u001b[0m\u001b[0m\n\u001b[1;32m---> 14\u001b[1;33m \u001b[1;32mfor\u001b[0m \u001b[0midx\u001b[0m \u001b[1;32min\u001b[0m \u001b[0mrange\u001b[0m\u001b[1;33m(\u001b[0m\u001b[0mlen\u001b[0m\u001b[1;33m(\u001b[0m\u001b[0mfit_params\u001b[0m\u001b[1;33m.\u001b[0m\u001b[0mmodel_indexes\u001b[0m\u001b[1;33m)\u001b[0m\u001b[1;33m)\u001b[0m\u001b[1;33m:\u001b[0m\u001b[1;33m\u001b[0m\u001b[1;33m\u001b[0m\u001b[0m\n\u001b[0m\u001b[0;32m     15\u001b[0m     \u001b[1;32mif\u001b[0m \u001b[1;32mnot\u001b[0m \u001b[0mcount_empty_models\u001b[0m \u001b[1;32mand\u001b[0m \u001b[0mfit_params\u001b[0m\u001b[1;33m.\u001b[0m\u001b[0mstops\u001b[0m\u001b[1;33m[\u001b[0m\u001b[0midx\u001b[0m\u001b[1;33m]\u001b[0m \u001b[1;33m==\u001b[0m \u001b[1;36m0\u001b[0m \u001b[1;32mand\u001b[0m\u001b[0;31m \u001b[0m\u001b[0;31m\\\u001b[0m\u001b[1;33m\u001b[0m\u001b[1;33m\u001b[0m\u001b[0m\n\u001b[0;32m     16\u001b[0m        \u001b[0mfit_params\u001b[0m\u001b[1;33m.\u001b[0m\u001b[0mtakes\u001b[0m\u001b[1;33m[\u001b[0m\u001b[0midx\u001b[0m\u001b[1;33m]\u001b[0m \u001b[1;33m==\u001b[0m \u001b[1;36m0\u001b[0m \u001b[1;32mand\u001b[0m \u001b[0mfit_params\u001b[0m\u001b[1;33m.\u001b[0m\u001b[0mbus\u001b[0m\u001b[1;33m[\u001b[0m\u001b[0midx\u001b[0m\u001b[1;33m]\u001b[0m \u001b[1;33m==\u001b[0m \u001b[1;36m0\u001b[0m\u001b[1;33m:\u001b[0m\u001b[1;33m\u001b[0m\u001b[1;33m\u001b[0m\u001b[0m\n",
      "\u001b[1;31mAttributeError\u001b[0m: 'FitnessResult' object has no attribute 'model_indexes'"
     ]
    }
   ],
   "source": [
    "print_descr = False\n",
    "count_empty_models = False\n",
    "print(\"Indiv parameters:\")\n",
    "for gene_idx, gene in enumerate(indiv):\n",
    "    if print_descr:\n",
    "        print(gene_descriptors[gene_idx] + \":\\n\" + str(gene))\n",
    "    else:\n",
    "        print(gene)          \n",
    "        \n",
    "print(\"Inidiv models:\")\n",
    "fit_params = indiv.fitness\n",
    "trades = 0\n",
    "table = [[\"model number\", \"stops\", \"take\", \"bu\"]]\n",
    "for idx in range(len(fit_params.model_indexes)):\n",
    "    if not count_empty_models and fit_params.stops[idx] == 0 and \\\n",
    "       fit_params.takes[idx] == 0 and fit_params.bus[idx] == 0:\n",
    "        continue\n",
    "    trades += fit_params.stops[idx]\n",
    "    trades += fit_params.takes[idx]\n",
    "    trades += fit_params.bus[idx]\n",
    "    table.append([fit_params.model_indexes[idx], fit_params.stops[idx], fit_params.takes[idx], fit_params.bus[idx]])\n",
    "print(\"total models number: \" + str(len(table)))\n",
    "print(\"total trades number: \" + str(trades))\n",
    "#display(HTML(tabulate.tabulate(table, tablefmt='html')))"
   ]
  }
 ],
 "metadata": {
  "kernelspec": {
   "display_name": "Python 3",
   "language": "python",
   "name": "python3"
  },
  "language_info": {
   "codemirror_mode": {
    "name": "ipython",
    "version": 3
   },
   "file_extension": ".py",
   "mimetype": "text/x-python",
   "name": "python",
   "nbconvert_exporter": "python",
   "pygments_lexer": "ipython3",
   "version": "3.8.0"
  }
 },
 "nbformat": 4,
 "nbformat_minor": 2
}
