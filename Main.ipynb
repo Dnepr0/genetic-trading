{
 "cells": [
  {
   "cell_type": "code",
   "execution_count": 1,
   "metadata": {},
   "outputs": [],
   "source": [
    "from gene import Gene, GeneChain\n",
    "from genetic import Genetic\n",
    "from selector import TopNSelector\n",
    "from util import print_row, print_header\n",
    "from loader import load\n",
    "from crosser import RandomGeneCrosser"
   ]
  },
  {
   "cell_type": "markdown",
   "metadata": {},
   "source": [
    "## Load data"
   ]
  },
  {
   "cell_type": "code",
   "execution_count": 2,
   "metadata": {},
   "outputs": [
    {
     "data": {
      "text/html": [
       "<div>\n",
       "<style scoped>\n",
       "    .dataframe tbody tr th:only-of-type {\n",
       "        vertical-align: middle;\n",
       "    }\n",
       "\n",
       "    .dataframe tbody tr th {\n",
       "        vertical-align: top;\n",
       "    }\n",
       "\n",
       "    .dataframe thead th {\n",
       "        text-align: right;\n",
       "    }\n",
       "</style>\n",
       "<table border=\"1\" class=\"dataframe\">\n",
       "  <thead>\n",
       "    <tr style=\"text-align: right;\">\n",
       "      <th></th>\n",
       "      <th>COLUMN0</th>\n",
       "      <th>COLUMN1</th>\n",
       "      <th>COLUMN2</th>\n",
       "      <th>COLUMN3</th>\n",
       "      <th>COLUMN4</th>\n",
       "      <th>COLUMN5</th>\n",
       "      <th>COLUMN6</th>\n",
       "      <th>COLUMN7</th>\n",
       "      <th>COLUMN8</th>\n",
       "    </tr>\n",
       "  </thead>\n",
       "  <tbody>\n",
       "    <tr>\n",
       "      <th>0</th>\n",
       "      <td>3</td>\n",
       "      <td>3</td>\n",
       "      <td>10</td>\n",
       "      <td>2</td>\n",
       "      <td>1.33</td>\n",
       "      <td>0.20</td>\n",
       "      <td>0.52</td>\n",
       "      <td>0.52</td>\n",
       "      <td>0.44</td>\n",
       "    </tr>\n",
       "    <tr>\n",
       "      <th>1</th>\n",
       "      <td>4</td>\n",
       "      <td>3</td>\n",
       "      <td>10</td>\n",
       "      <td>2</td>\n",
       "      <td>1.33</td>\n",
       "      <td>0.20</td>\n",
       "      <td>0.52</td>\n",
       "      <td>0.52</td>\n",
       "      <td>0.42</td>\n",
       "    </tr>\n",
       "    <tr>\n",
       "      <th>2</th>\n",
       "      <td>5</td>\n",
       "      <td>3</td>\n",
       "      <td>10</td>\n",
       "      <td>3</td>\n",
       "      <td>1.42</td>\n",
       "      <td>0.22</td>\n",
       "      <td>0.56</td>\n",
       "      <td>0.56</td>\n",
       "      <td>0.38</td>\n",
       "    </tr>\n",
       "    <tr>\n",
       "      <th>3</th>\n",
       "      <td>3</td>\n",
       "      <td>38</td>\n",
       "      <td>7</td>\n",
       "      <td>0</td>\n",
       "      <td>1.44</td>\n",
       "      <td>0.16</td>\n",
       "      <td>0.46</td>\n",
       "      <td>0.46</td>\n",
       "      <td>0.19</td>\n",
       "    </tr>\n",
       "    <tr>\n",
       "      <th>4</th>\n",
       "      <td>4</td>\n",
       "      <td>37</td>\n",
       "      <td>7</td>\n",
       "      <td>0</td>\n",
       "      <td>1.44</td>\n",
       "      <td>0.25</td>\n",
       "      <td>0.46</td>\n",
       "      <td>0.46</td>\n",
       "      <td>0.19</td>\n",
       "    </tr>\n",
       "  </tbody>\n",
       "</table>\n",
       "</div>"
      ],
      "text/plain": [
       "   COLUMN0  COLUMN1  COLUMN2  COLUMN3  COLUMN4  COLUMN5  COLUMN6  COLUMN7  \\\n",
       "0        3        3       10        2     1.33     0.20     0.52     0.52   \n",
       "1        4        3       10        2     1.33     0.20     0.52     0.52   \n",
       "2        5        3       10        3     1.42     0.22     0.56     0.56   \n",
       "3        3       38        7        0     1.44     0.16     0.46     0.46   \n",
       "4        4       37        7        0     1.44     0.25     0.46     0.46   \n",
       "\n",
       "   COLUMN8  \n",
       "0     0.44  \n",
       "1     0.42  \n",
       "2     0.38  \n",
       "3     0.19  \n",
       "4     0.19  "
      ]
     },
     "execution_count": 2,
     "metadata": {},
     "output_type": "execute_result"
    }
   ],
   "source": [
    "data = load()\n",
    "data.head(5)"
   ]
  },
  {
   "cell_type": "markdown",
   "metadata": {},
   "source": [
    "## Init base gene chain"
   ]
  },
  {
   "cell_type": "code",
   "execution_count": 3,
   "metadata": {},
   "outputs": [
    {
     "name": "stdout",
     "output_type": "stream",
     "text": [
      "|          |      Type|       Min|       Max|\n",
      "+----------+----------+----------+----------|\n",
      "|   COLUMN0|     int64|         3|        17|\n",
      "|   COLUMN1|     int64|         2|        43|\n",
      "|   COLUMN2|     int64|         2|        12|\n",
      "|   COLUMN3|     int64|         0|         3|\n",
      "|   COLUMN4|   float64|       0.7|       2.1|\n",
      "|   COLUMN5|   float64|      0.02|       0.8|\n",
      "|   COLUMN6|   float64|      0.01|       0.6|\n",
      "|   COLUMN7|   float64|      0.01|       0.6|\n",
      "|   COLUMN8|   float64|       0.0|       0.6|\n"
     ]
    }
   ],
   "source": [
    "base_gene_chain = GeneChain()\n",
    "\n",
    "print_header((\"\", \"Type\", \"Min\", \"Max\"))\n",
    "\n",
    "for column in data:\n",
    "    dtype = data[column].dtype\n",
    "    min_value = min(data[column])\n",
    "    max_value = max(data[column])\n",
    "    \n",
    "    print_row((column, dtype.name, min_value, max_value))\n",
    "    \n",
    "    base_gene_chain.add(\n",
    "        Gene(dtype.type, max_value, min_value, -1))"
   ]
  },
  {
   "cell_type": "markdown",
   "metadata": {},
   "source": [
    "### Init genetic algorithm"
   ]
  },
  {
   "cell_type": "code",
   "execution_count": 4,
   "metadata": {},
   "outputs": [],
   "source": [
    "genetic = Genetic(\n",
    "    max_generations=1,\n",
    "    max_individuals=10,\n",
    "    base_gene_chain=base_gene_chain,\n",
    "    crosser=RandomGeneCrosser(),\n",
    "    selector=TopNSelector(3)\n",
    ")"
   ]
  },
  {
   "cell_type": "markdown",
   "metadata": {},
   "source": [
    "## Run "
   ]
  },
  {
   "cell_type": "code",
   "execution_count": 5,
   "metadata": {},
   "outputs": [],
   "source": [
    "genetic.run()"
   ]
  },
  {
   "cell_type": "code",
   "execution_count": 6,
   "metadata": {},
   "outputs": [
    {
     "name": "stdout",
     "output_type": "stream",
     "text": [
      "98\n",
      "97\n",
      "95\n"
     ]
    }
   ],
   "source": [
    "for individ in genetic._individuals:\n",
    "    print(individ.score)"
   ]
  },
  {
   "cell_type": "code",
   "execution_count": null,
   "metadata": {},
   "outputs": [],
   "source": []
  },
  {
   "cell_type": "code",
   "execution_count": null,
   "metadata": {},
   "outputs": [],
   "source": []
  },
  {
   "cell_type": "code",
   "execution_count": null,
   "metadata": {},
   "outputs": [],
   "source": []
  },
  {
   "cell_type": "code",
   "execution_count": null,
   "metadata": {},
   "outputs": [],
   "source": []
  },
  {
   "cell_type": "code",
   "execution_count": null,
   "metadata": {},
   "outputs": [],
   "source": []
  },
  {
   "cell_type": "code",
   "execution_count": null,
   "metadata": {},
   "outputs": [],
   "source": []
  }
 ],
 "metadata": {
  "kernelspec": {
   "display_name": "Python 3",
   "language": "python",
   "name": "python3"
  },
  "language_info": {
   "codemirror_mode": {
    "name": "ipython",
    "version": 3
   },
   "file_extension": ".py",
   "mimetype": "text/x-python",
   "name": "python",
   "nbconvert_exporter": "python",
   "pygments_lexer": "ipython3",
   "version": "3.6.8"
  }
 },
 "nbformat": 4,
 "nbformat_minor": 2
}
